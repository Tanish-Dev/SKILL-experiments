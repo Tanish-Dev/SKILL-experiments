{
  "cells": [
    {
      "cell_type": "markdown",
      "metadata": {
        "id": "view-in-github",
        "colab_type": "text"
      },
      "source": [
        "<a href=\"https://colab.research.google.com/github/Tanish-Dev/SKILL-experiments/blob/main/SKILL_LCA_3_Submission.ipynb\" target=\"_parent\"><img src=\"https://colab.research.google.com/assets/colab-badge.svg\" alt=\"Open In Colab\"/></a>"
      ]
    },
    {
      "cell_type": "markdown",
      "id": "fc2f109f",
      "metadata": {
        "id": "fc2f109f"
      },
      "source": [
        "# Data Filtering"
      ]
    },
    {
      "cell_type": "code",
      "execution_count": null,
      "id": "598cb146",
      "metadata": {
        "id": "598cb146"
      },
      "outputs": [],
      "source": [
        "import pandas as pd\n",
        "from IPython.display import display\n",
        "import numpy as np"
      ]
    },
    {
      "cell_type": "code",
      "execution_count": null,
      "id": "8a12ef52",
      "metadata": {
        "id": "8a12ef52",
        "outputId": "37e3480c-8cc8-411b-9541-9131c704e439"
      },
      "outputs": [
        {
          "name": "stderr",
          "output_type": "stream",
          "text": [
            "C:\\Users\\kakan\\AppData\\Local\\Temp\\ipykernel_1860\\1658240409.py:5: DtypeWarning: Columns (7,9) have mixed types. Specify dtype option on import or set low_memory=False.\n",
            "  df=pd.read_csv(file)\n",
            "C:\\Users\\kakan\\AppData\\Local\\Temp\\ipykernel_1860\\1658240409.py:5: DtypeWarning: Columns (7,9) have mixed types. Specify dtype option on import or set low_memory=False.\n",
            "  df=pd.read_csv(file)\n",
            "C:\\Users\\kakan\\AppData\\Local\\Temp\\ipykernel_1860\\1658240409.py:5: DtypeWarning: Columns (7,9) have mixed types. Specify dtype option on import or set low_memory=False.\n",
            "  df=pd.read_csv(file)\n",
            "C:\\Users\\kakan\\AppData\\Local\\Temp\\ipykernel_1860\\1658240409.py:5: DtypeWarning: Columns (7,9) have mixed types. Specify dtype option on import or set low_memory=False.\n",
            "  df=pd.read_csv(file)\n"
          ]
        }
      ],
      "source": [
        "files=['UNSW_2018_IoT_Botnet_Full5pc_1.csv','UNSW_2018_IoT_Botnet_Full5pc_2.csv','UNSW_2018_IoT_Botnet_Full5pc_3.csv','UNSW_2018_IoT_Botnet_Full5pc_4.csv']\n",
        "dfs=[]\n",
        "\n",
        "for file in files:\n",
        "    df=pd.read_csv(file)\n",
        "    dfs.append(df)\n",
        "\n",
        "data=pd.concat(dfs)"
      ]
    },
    {
      "cell_type": "code",
      "execution_count": null,
      "id": "724f24cb",
      "metadata": {
        "id": "724f24cb",
        "outputId": "564bc50e-3772-40ce-9f6d-4802e47c42d7"
      },
      "outputs": [
        {
          "name": "stdout",
          "output_type": "stream",
          "text": [
            "<class 'pandas.core.frame.DataFrame'>\n",
            "Index: 3668522 entries, 0 to 668521\n",
            "Data columns (total 46 columns):\n",
            " #   Column                            Dtype  \n",
            "---  ------                            -----  \n",
            " 0   pkSeqID                           int64  \n",
            " 1   stime                             float64\n",
            " 2   flgs                              object \n",
            " 3   flgs_number                       int64  \n",
            " 4   proto                             object \n",
            " 5   proto_number                      int64  \n",
            " 6   saddr                             object \n",
            " 7   sport                             object \n",
            " 8   daddr                             object \n",
            " 9   dport                             object \n",
            " 10  pkts                              int64  \n",
            " 11  bytes                             int64  \n",
            " 12  state                             object \n",
            " 13  state_number                      int64  \n",
            " 14  ltime                             float64\n",
            " 15  seq                               int64  \n",
            " 16  dur                               float64\n",
            " 17  mean                              float64\n",
            " 18  stddev                            float64\n",
            " 19  sum                               float64\n",
            " 20  min                               float64\n",
            " 21  max                               float64\n",
            " 22  spkts                             int64  \n",
            " 23  dpkts                             int64  \n",
            " 24  sbytes                            int64  \n",
            " 25  dbytes                            int64  \n",
            " 26  rate                              float64\n",
            " 27  srate                             float64\n",
            " 28  drate                             float64\n",
            " 29  TnBPSrcIP                         int64  \n",
            " 30  TnBPDstIP                         int64  \n",
            " 31  TnP_PSrcIP                        int64  \n",
            " 32  TnP_PDstIP                        int64  \n",
            " 33  TnP_PerProto                      int64  \n",
            " 34  TnP_Per_Dport                     int64  \n",
            " 35  AR_P_Proto_P_SrcIP                float64\n",
            " 36  AR_P_Proto_P_DstIP                float64\n",
            " 37  N_IN_Conn_P_DstIP                 int64  \n",
            " 38  N_IN_Conn_P_SrcIP                 int64  \n",
            " 39  AR_P_Proto_P_Sport                float64\n",
            " 40  AR_P_Proto_P_Dport                float64\n",
            " 41  Pkts_P_State_P_Protocol_P_DestIP  int64  \n",
            " 42  Pkts_P_State_P_Protocol_P_SrcIP   int64  \n",
            " 43  attack                            int64  \n",
            " 44  category                          object \n",
            " 45  subcategory                       object \n",
            "dtypes: float64(15), int64(22), object(9)\n",
            "memory usage: 1.3+ GB\n"
          ]
        },
        {
          "data": {
            "application/vnd.microsoft.datawrangler.viewer.v0+json": {
              "columns": [
                {
                  "name": "index",
                  "rawType": "object",
                  "type": "string"
                },
                {
                  "name": "pkSeqID",
                  "rawType": "float64",
                  "type": "float"
                },
                {
                  "name": "stime",
                  "rawType": "float64",
                  "type": "float"
                },
                {
                  "name": "flgs_number",
                  "rawType": "float64",
                  "type": "float"
                },
                {
                  "name": "proto_number",
                  "rawType": "float64",
                  "type": "float"
                },
                {
                  "name": "pkts",
                  "rawType": "float64",
                  "type": "float"
                },
                {
                  "name": "bytes",
                  "rawType": "float64",
                  "type": "float"
                },
                {
                  "name": "state_number",
                  "rawType": "float64",
                  "type": "float"
                },
                {
                  "name": "ltime",
                  "rawType": "float64",
                  "type": "float"
                },
                {
                  "name": "seq",
                  "rawType": "float64",
                  "type": "float"
                },
                {
                  "name": "dur",
                  "rawType": "float64",
                  "type": "float"
                },
                {
                  "name": "mean",
                  "rawType": "float64",
                  "type": "float"
                },
                {
                  "name": "stddev",
                  "rawType": "float64",
                  "type": "float"
                },
                {
                  "name": "sum",
                  "rawType": "float64",
                  "type": "float"
                },
                {
                  "name": "min",
                  "rawType": "float64",
                  "type": "float"
                },
                {
                  "name": "max",
                  "rawType": "float64",
                  "type": "float"
                },
                {
                  "name": "spkts",
                  "rawType": "float64",
                  "type": "float"
                },
                {
                  "name": "dpkts",
                  "rawType": "float64",
                  "type": "float"
                },
                {
                  "name": "sbytes",
                  "rawType": "float64",
                  "type": "float"
                },
                {
                  "name": "dbytes",
                  "rawType": "float64",
                  "type": "float"
                },
                {
                  "name": "rate",
                  "rawType": "float64",
                  "type": "float"
                },
                {
                  "name": "srate",
                  "rawType": "float64",
                  "type": "float"
                },
                {
                  "name": "drate",
                  "rawType": "float64",
                  "type": "float"
                },
                {
                  "name": "TnBPSrcIP",
                  "rawType": "float64",
                  "type": "float"
                },
                {
                  "name": "TnBPDstIP",
                  "rawType": "float64",
                  "type": "float"
                },
                {
                  "name": "TnP_PSrcIP",
                  "rawType": "float64",
                  "type": "float"
                },
                {
                  "name": "TnP_PDstIP",
                  "rawType": "float64",
                  "type": "float"
                },
                {
                  "name": "TnP_PerProto",
                  "rawType": "float64",
                  "type": "float"
                },
                {
                  "name": "TnP_Per_Dport",
                  "rawType": "float64",
                  "type": "float"
                },
                {
                  "name": "AR_P_Proto_P_SrcIP",
                  "rawType": "float64",
                  "type": "float"
                },
                {
                  "name": "AR_P_Proto_P_DstIP",
                  "rawType": "float64",
                  "type": "float"
                },
                {
                  "name": "N_IN_Conn_P_DstIP",
                  "rawType": "float64",
                  "type": "float"
                },
                {
                  "name": "N_IN_Conn_P_SrcIP",
                  "rawType": "float64",
                  "type": "float"
                },
                {
                  "name": "AR_P_Proto_P_Sport",
                  "rawType": "float64",
                  "type": "float"
                },
                {
                  "name": "AR_P_Proto_P_Dport",
                  "rawType": "float64",
                  "type": "float"
                },
                {
                  "name": "Pkts_P_State_P_Protocol_P_DestIP",
                  "rawType": "float64",
                  "type": "float"
                },
                {
                  "name": "Pkts_P_State_P_Protocol_P_SrcIP",
                  "rawType": "float64",
                  "type": "float"
                },
                {
                  "name": "attack",
                  "rawType": "float64",
                  "type": "float"
                }
              ],
              "conversionMethod": "pd.DataFrame",
              "ref": "c930a362-4c9d-4d89-81f3-49c213193ba6",
              "rows": [
                [
                  "count",
                  "3668522.0",
                  "3668522.0",
                  "3668522.0",
                  "3668522.0",
                  "3668522.0",
                  "3668522.0",
                  "3668522.0",
                  "3668522.0",
                  "3668522.0",
                  "3668522.0",
                  "3668522.0",
                  "3668522.0",
                  "3668522.0",
                  "3668522.0",
                  "3668522.0",
                  "3668522.0",
                  "3668522.0",
                  "3668522.0",
                  "3668522.0",
                  "3668522.0",
                  "3668522.0",
                  "3668522.0",
                  "3668522.0",
                  "3668522.0",
                  "3668522.0",
                  "3668522.0",
                  "3668522.0",
                  "3668522.0",
                  "3668522.0",
                  "3668522.0",
                  "3668522.0",
                  "3668522.0",
                  "3668522.0",
                  "3668522.0",
                  "3668522.0",
                  "3668522.0",
                  "3668522.0"
                ],
                [
                  "mean",
                  "1834261.5",
                  "1528050205.104128",
                  "1.4902055923339155",
                  "2.0958841189994226",
                  "7.725963208071262",
                  "869.0500610327538",
                  "3.134389544345107",
                  "1528050225.4385197",
                  "121320.41612507707",
                  "20.334788879905876",
                  "2.231062572385826",
                  "0.8871498916165691",
                  "7.721634578470029",
                  "1.017539991068883",
                  "3.0200154103170167",
                  "7.314145860376468",
                  "0.4118173476947937",
                  "766.3916062108937",
                  "102.65845482186013",
                  "244.94065955524593",
                  "2.9551111198338185",
                  "0.44550464966899467",
                  "51016.153097078335",
                  "56845.579959994786",
                  "619.7055669831066",
                  "687.203502936605",
                  "753.5658924765887",
                  "736.9069897904387",
                  "332.74387298066085",
                  "285.183179262105",
                  "92.45167999537688",
                  "82.53848334560894",
                  "456.49451689005383",
                  "538.5196252332008",
                  "642.2896537079511",
                  "585.9984424244968",
                  "0.999869974883618"
                ],
                [
                  "std",
                  "1059011.2264515895",
                  "258149.83437702988",
                  "0.8652444217515839",
                  "0.9990837443313727",
                  "115.58764301162917",
                  "112266.66928055594",
                  "1.1869707326187475",
                  "258150.68500137748",
                  "75794.2837845121",
                  "21.48763579871091",
                  "1.5177275498433862",
                  "0.8037138556914373",
                  "7.6161994646286715",
                  "1.48368785010271",
                  "1.86087730590205",
                  "77.2583641346917",
                  "49.65000938440307",
                  "71929.79771016976",
                  "49449.03446711377",
                  "7919.940281558175",
                  "724.5424761106187",
                  "60.2886262887319",
                  "442812.5143583618",
                  "415299.7722022846",
                  "584.2085940470907",
                  "584.9345834370345",
                  "1434.3854729800157",
                  "652.7134356599885",
                  "8466.031239324126",
                  "4096.9431672295295",
                  "18.176434629064353",
                  "24.397393866765256",
                  "14329.170053595537",
                  "15698.237781680498",
                  "453.34323238876794",
                  "433.26189874468383",
                  "0.011402115825143671"
                ],
                [
                  "min",
                  "1.0",
                  "1526344031.66514",
                  "1.0",
                  "1.0",
                  "1.0",
                  "60.0",
                  "1.0",
                  "1526344227.07794",
                  "1.0",
                  "0.0",
                  "0.0",
                  "0.0",
                  "0.0",
                  "0.0",
                  "0.0",
                  "1.0",
                  "0.0",
                  "42.0",
                  "0.0",
                  "0.0",
                  "0.0",
                  "0.0",
                  "60.0",
                  "60.0",
                  "1.0",
                  "1.0",
                  "1.0",
                  "1.0",
                  "0.0",
                  "0.0",
                  "1.0",
                  "1.0",
                  "0.0",
                  "0.0",
                  "1.0",
                  "1.0",
                  "0.0"
                ],
                [
                  "25%",
                  "917131.25",
                  "1528084926.46863",
                  "1.0",
                  "1.0",
                  "5.0",
                  "420.0",
                  "3.0",
                  "1528084951.00694",
                  "54876.0",
                  "12.562559",
                  "0.181967",
                  "0.030019",
                  "0.34459825",
                  "0.0",
                  "0.28060725",
                  "5.0",
                  "0.0",
                  "420.0",
                  "0.0",
                  "0.191727",
                  "0.15597",
                  "0.0",
                  "32010.0",
                  "38960.0",
                  "350.0",
                  "438.0",
                  "502.0",
                  "500.0",
                  "0.235995",
                  "0.243668",
                  "100.0",
                  "69.0",
                  "0.231481",
                  "0.245773",
                  "324.0",
                  "294.0",
                  "1.0"
                ],
                [
                  "50%",
                  "1834261.5",
                  "1528095723.68125",
                  "1.0",
                  "3.0",
                  "7.0",
                  "600.0",
                  "4.0",
                  "1528095729.9604",
                  "117769.0",
                  "15.508524",
                  "2.6901254999999997",
                  "0.793896",
                  "8.269959",
                  "0.0",
                  "4.009111",
                  "6.0",
                  "0.0",
                  "600.0",
                  "0.0",
                  "0.30584",
                  "0.283783",
                  "0.0",
                  "47520.0",
                  "54000.0",
                  "566.0",
                  "616.0",
                  "700.0",
                  "700.0",
                  "0.390089",
                  "0.398629",
                  "100.0",
                  "100.0",
                  "0.378591",
                  "0.394306",
                  "600.0",
                  "500.0",
                  "1.0"
                ],
                [
                  "75%",
                  "2751391.75",
                  "1528099321.9427",
                  "2.0",
                  "3.0",
                  "9.0",
                  "770.0",
                  "4.0",
                  "1528099335.85631",
                  "184930.0",
                  "27.099855",
                  "3.565203",
                  "1.74529575",
                  "11.7104015",
                  "2.151138",
                  "4.293582",
                  "8.0",
                  "0.0",
                  "770.0",
                  "0.0",
                  "0.493037",
                  "0.488201",
                  "0.0",
                  "66000.0",
                  "75460.0",
                  "800.0",
                  "836.0",
                  "924.0",
                  "920.0",
                  "0.572558",
                  "0.579639",
                  "100.0",
                  "100.0",
                  "0.572555",
                  "0.576971",
                  "828.0",
                  "800.0",
                  "1.0"
                ],
                [
                  "max",
                  "3668522.0",
                  "1529380791.13583",
                  "9.0",
                  "5.0",
                  "70057.0",
                  "71833345.0",
                  "11.0",
                  "1529381808.18636",
                  "262212.0",
                  "2771.485107",
                  "4.981882",
                  "2.496763",
                  "1913.193604",
                  "4.980471",
                  "4.999999",
                  "35029.0",
                  "35029.0",
                  "37747017.0",
                  "34181742.0",
                  "1000000.0",
                  "1000000.0",
                  "58823.527344",
                  "220390664.0",
                  "220390784.0",
                  "225519.0",
                  "225521.0",
                  "228373.0",
                  "244425.0",
                  "2714290.0",
                  "1000000.0",
                  "100.0",
                  "100.0",
                  "3000000.0",
                  "2000000.0",
                  "112544.0",
                  "117939.0",
                  "1.0"
                ]
              ],
              "shape": {
                "columns": 37,
                "rows": 8
              }
            },
            "text/html": [
              "<div>\n",
              "<style scoped>\n",
              "    .dataframe tbody tr th:only-of-type {\n",
              "        vertical-align: middle;\n",
              "    }\n",
              "\n",
              "    .dataframe tbody tr th {\n",
              "        vertical-align: top;\n",
              "    }\n",
              "\n",
              "    .dataframe thead th {\n",
              "        text-align: right;\n",
              "    }\n",
              "</style>\n",
              "<table border=\"1\" class=\"dataframe\">\n",
              "  <thead>\n",
              "    <tr style=\"text-align: right;\">\n",
              "      <th></th>\n",
              "      <th>pkSeqID</th>\n",
              "      <th>stime</th>\n",
              "      <th>flgs_number</th>\n",
              "      <th>proto_number</th>\n",
              "      <th>pkts</th>\n",
              "      <th>bytes</th>\n",
              "      <th>state_number</th>\n",
              "      <th>ltime</th>\n",
              "      <th>seq</th>\n",
              "      <th>dur</th>\n",
              "      <th>...</th>\n",
              "      <th>TnP_Per_Dport</th>\n",
              "      <th>AR_P_Proto_P_SrcIP</th>\n",
              "      <th>AR_P_Proto_P_DstIP</th>\n",
              "      <th>N_IN_Conn_P_DstIP</th>\n",
              "      <th>N_IN_Conn_P_SrcIP</th>\n",
              "      <th>AR_P_Proto_P_Sport</th>\n",
              "      <th>AR_P_Proto_P_Dport</th>\n",
              "      <th>Pkts_P_State_P_Protocol_P_DestIP</th>\n",
              "      <th>Pkts_P_State_P_Protocol_P_SrcIP</th>\n",
              "      <th>attack</th>\n",
              "    </tr>\n",
              "  </thead>\n",
              "  <tbody>\n",
              "    <tr>\n",
              "      <th>count</th>\n",
              "      <td>3.668522e+06</td>\n",
              "      <td>3.668522e+06</td>\n",
              "      <td>3.668522e+06</td>\n",
              "      <td>3.668522e+06</td>\n",
              "      <td>3.668522e+06</td>\n",
              "      <td>3.668522e+06</td>\n",
              "      <td>3.668522e+06</td>\n",
              "      <td>3.668522e+06</td>\n",
              "      <td>3.668522e+06</td>\n",
              "      <td>3.668522e+06</td>\n",
              "      <td>...</td>\n",
              "      <td>3.668522e+06</td>\n",
              "      <td>3.668522e+06</td>\n",
              "      <td>3.668522e+06</td>\n",
              "      <td>3.668522e+06</td>\n",
              "      <td>3.668522e+06</td>\n",
              "      <td>3.668522e+06</td>\n",
              "      <td>3.668522e+06</td>\n",
              "      <td>3.668522e+06</td>\n",
              "      <td>3.668522e+06</td>\n",
              "      <td>3.668522e+06</td>\n",
              "    </tr>\n",
              "    <tr>\n",
              "      <th>mean</th>\n",
              "      <td>1.834262e+06</td>\n",
              "      <td>1.528050e+09</td>\n",
              "      <td>1.490206e+00</td>\n",
              "      <td>2.095884e+00</td>\n",
              "      <td>7.725963e+00</td>\n",
              "      <td>8.690501e+02</td>\n",
              "      <td>3.134390e+00</td>\n",
              "      <td>1.528050e+09</td>\n",
              "      <td>1.213204e+05</td>\n",
              "      <td>2.033479e+01</td>\n",
              "      <td>...</td>\n",
              "      <td>7.369070e+02</td>\n",
              "      <td>3.327439e+02</td>\n",
              "      <td>2.851832e+02</td>\n",
              "      <td>9.245168e+01</td>\n",
              "      <td>8.253848e+01</td>\n",
              "      <td>4.564945e+02</td>\n",
              "      <td>5.385196e+02</td>\n",
              "      <td>6.422897e+02</td>\n",
              "      <td>5.859984e+02</td>\n",
              "      <td>9.998700e-01</td>\n",
              "    </tr>\n",
              "    <tr>\n",
              "      <th>std</th>\n",
              "      <td>1.059011e+06</td>\n",
              "      <td>2.581498e+05</td>\n",
              "      <td>8.652444e-01</td>\n",
              "      <td>9.990837e-01</td>\n",
              "      <td>1.155876e+02</td>\n",
              "      <td>1.122667e+05</td>\n",
              "      <td>1.186971e+00</td>\n",
              "      <td>2.581507e+05</td>\n",
              "      <td>7.579428e+04</td>\n",
              "      <td>2.148764e+01</td>\n",
              "      <td>...</td>\n",
              "      <td>6.527134e+02</td>\n",
              "      <td>8.466031e+03</td>\n",
              "      <td>4.096943e+03</td>\n",
              "      <td>1.817643e+01</td>\n",
              "      <td>2.439739e+01</td>\n",
              "      <td>1.432917e+04</td>\n",
              "      <td>1.569824e+04</td>\n",
              "      <td>4.533432e+02</td>\n",
              "      <td>4.332619e+02</td>\n",
              "      <td>1.140212e-02</td>\n",
              "    </tr>\n",
              "    <tr>\n",
              "      <th>min</th>\n",
              "      <td>1.000000e+00</td>\n",
              "      <td>1.526344e+09</td>\n",
              "      <td>1.000000e+00</td>\n",
              "      <td>1.000000e+00</td>\n",
              "      <td>1.000000e+00</td>\n",
              "      <td>6.000000e+01</td>\n",
              "      <td>1.000000e+00</td>\n",
              "      <td>1.526344e+09</td>\n",
              "      <td>1.000000e+00</td>\n",
              "      <td>0.000000e+00</td>\n",
              "      <td>...</td>\n",
              "      <td>1.000000e+00</td>\n",
              "      <td>0.000000e+00</td>\n",
              "      <td>0.000000e+00</td>\n",
              "      <td>1.000000e+00</td>\n",
              "      <td>1.000000e+00</td>\n",
              "      <td>0.000000e+00</td>\n",
              "      <td>0.000000e+00</td>\n",
              "      <td>1.000000e+00</td>\n",
              "      <td>1.000000e+00</td>\n",
              "      <td>0.000000e+00</td>\n",
              "    </tr>\n",
              "    <tr>\n",
              "      <th>25%</th>\n",
              "      <td>9.171312e+05</td>\n",
              "      <td>1.528085e+09</td>\n",
              "      <td>1.000000e+00</td>\n",
              "      <td>1.000000e+00</td>\n",
              "      <td>5.000000e+00</td>\n",
              "      <td>4.200000e+02</td>\n",
              "      <td>3.000000e+00</td>\n",
              "      <td>1.528085e+09</td>\n",
              "      <td>5.487600e+04</td>\n",
              "      <td>1.256256e+01</td>\n",
              "      <td>...</td>\n",
              "      <td>5.000000e+02</td>\n",
              "      <td>2.359950e-01</td>\n",
              "      <td>2.436680e-01</td>\n",
              "      <td>1.000000e+02</td>\n",
              "      <td>6.900000e+01</td>\n",
              "      <td>2.314810e-01</td>\n",
              "      <td>2.457730e-01</td>\n",
              "      <td>3.240000e+02</td>\n",
              "      <td>2.940000e+02</td>\n",
              "      <td>1.000000e+00</td>\n",
              "    </tr>\n",
              "    <tr>\n",
              "      <th>50%</th>\n",
              "      <td>1.834262e+06</td>\n",
              "      <td>1.528096e+09</td>\n",
              "      <td>1.000000e+00</td>\n",
              "      <td>3.000000e+00</td>\n",
              "      <td>7.000000e+00</td>\n",
              "      <td>6.000000e+02</td>\n",
              "      <td>4.000000e+00</td>\n",
              "      <td>1.528096e+09</td>\n",
              "      <td>1.177690e+05</td>\n",
              "      <td>1.550852e+01</td>\n",
              "      <td>...</td>\n",
              "      <td>7.000000e+02</td>\n",
              "      <td>3.900890e-01</td>\n",
              "      <td>3.986290e-01</td>\n",
              "      <td>1.000000e+02</td>\n",
              "      <td>1.000000e+02</td>\n",
              "      <td>3.785910e-01</td>\n",
              "      <td>3.943060e-01</td>\n",
              "      <td>6.000000e+02</td>\n",
              "      <td>5.000000e+02</td>\n",
              "      <td>1.000000e+00</td>\n",
              "    </tr>\n",
              "    <tr>\n",
              "      <th>75%</th>\n",
              "      <td>2.751392e+06</td>\n",
              "      <td>1.528099e+09</td>\n",
              "      <td>2.000000e+00</td>\n",
              "      <td>3.000000e+00</td>\n",
              "      <td>9.000000e+00</td>\n",
              "      <td>7.700000e+02</td>\n",
              "      <td>4.000000e+00</td>\n",
              "      <td>1.528099e+09</td>\n",
              "      <td>1.849300e+05</td>\n",
              "      <td>2.709986e+01</td>\n",
              "      <td>...</td>\n",
              "      <td>9.200000e+02</td>\n",
              "      <td>5.725580e-01</td>\n",
              "      <td>5.796390e-01</td>\n",
              "      <td>1.000000e+02</td>\n",
              "      <td>1.000000e+02</td>\n",
              "      <td>5.725550e-01</td>\n",
              "      <td>5.769710e-01</td>\n",
              "      <td>8.280000e+02</td>\n",
              "      <td>8.000000e+02</td>\n",
              "      <td>1.000000e+00</td>\n",
              "    </tr>\n",
              "    <tr>\n",
              "      <th>max</th>\n",
              "      <td>3.668522e+06</td>\n",
              "      <td>1.529381e+09</td>\n",
              "      <td>9.000000e+00</td>\n",
              "      <td>5.000000e+00</td>\n",
              "      <td>7.005700e+04</td>\n",
              "      <td>7.183334e+07</td>\n",
              "      <td>1.100000e+01</td>\n",
              "      <td>1.529382e+09</td>\n",
              "      <td>2.622120e+05</td>\n",
              "      <td>2.771485e+03</td>\n",
              "      <td>...</td>\n",
              "      <td>2.444250e+05</td>\n",
              "      <td>2.714290e+06</td>\n",
              "      <td>1.000000e+06</td>\n",
              "      <td>1.000000e+02</td>\n",
              "      <td>1.000000e+02</td>\n",
              "      <td>3.000000e+06</td>\n",
              "      <td>2.000000e+06</td>\n",
              "      <td>1.125440e+05</td>\n",
              "      <td>1.179390e+05</td>\n",
              "      <td>1.000000e+00</td>\n",
              "    </tr>\n",
              "  </tbody>\n",
              "</table>\n",
              "<p>8 rows × 37 columns</p>\n",
              "</div>"
            ],
            "text/plain": [
              "            pkSeqID         stime   flgs_number  proto_number          pkts  \\\n",
              "count  3.668522e+06  3.668522e+06  3.668522e+06  3.668522e+06  3.668522e+06   \n",
              "mean   1.834262e+06  1.528050e+09  1.490206e+00  2.095884e+00  7.725963e+00   \n",
              "std    1.059011e+06  2.581498e+05  8.652444e-01  9.990837e-01  1.155876e+02   \n",
              "min    1.000000e+00  1.526344e+09  1.000000e+00  1.000000e+00  1.000000e+00   \n",
              "25%    9.171312e+05  1.528085e+09  1.000000e+00  1.000000e+00  5.000000e+00   \n",
              "50%    1.834262e+06  1.528096e+09  1.000000e+00  3.000000e+00  7.000000e+00   \n",
              "75%    2.751392e+06  1.528099e+09  2.000000e+00  3.000000e+00  9.000000e+00   \n",
              "max    3.668522e+06  1.529381e+09  9.000000e+00  5.000000e+00  7.005700e+04   \n",
              "\n",
              "              bytes  state_number         ltime           seq           dur  \\\n",
              "count  3.668522e+06  3.668522e+06  3.668522e+06  3.668522e+06  3.668522e+06   \n",
              "mean   8.690501e+02  3.134390e+00  1.528050e+09  1.213204e+05  2.033479e+01   \n",
              "std    1.122667e+05  1.186971e+00  2.581507e+05  7.579428e+04  2.148764e+01   \n",
              "min    6.000000e+01  1.000000e+00  1.526344e+09  1.000000e+00  0.000000e+00   \n",
              "25%    4.200000e+02  3.000000e+00  1.528085e+09  5.487600e+04  1.256256e+01   \n",
              "50%    6.000000e+02  4.000000e+00  1.528096e+09  1.177690e+05  1.550852e+01   \n",
              "75%    7.700000e+02  4.000000e+00  1.528099e+09  1.849300e+05  2.709986e+01   \n",
              "max    7.183334e+07  1.100000e+01  1.529382e+09  2.622120e+05  2.771485e+03   \n",
              "\n",
              "       ...  TnP_Per_Dport  AR_P_Proto_P_SrcIP  AR_P_Proto_P_DstIP  \\\n",
              "count  ...   3.668522e+06        3.668522e+06        3.668522e+06   \n",
              "mean   ...   7.369070e+02        3.327439e+02        2.851832e+02   \n",
              "std    ...   6.527134e+02        8.466031e+03        4.096943e+03   \n",
              "min    ...   1.000000e+00        0.000000e+00        0.000000e+00   \n",
              "25%    ...   5.000000e+02        2.359950e-01        2.436680e-01   \n",
              "50%    ...   7.000000e+02        3.900890e-01        3.986290e-01   \n",
              "75%    ...   9.200000e+02        5.725580e-01        5.796390e-01   \n",
              "max    ...   2.444250e+05        2.714290e+06        1.000000e+06   \n",
              "\n",
              "       N_IN_Conn_P_DstIP  N_IN_Conn_P_SrcIP  AR_P_Proto_P_Sport  \\\n",
              "count       3.668522e+06       3.668522e+06        3.668522e+06   \n",
              "mean        9.245168e+01       8.253848e+01        4.564945e+02   \n",
              "std         1.817643e+01       2.439739e+01        1.432917e+04   \n",
              "min         1.000000e+00       1.000000e+00        0.000000e+00   \n",
              "25%         1.000000e+02       6.900000e+01        2.314810e-01   \n",
              "50%         1.000000e+02       1.000000e+02        3.785910e-01   \n",
              "75%         1.000000e+02       1.000000e+02        5.725550e-01   \n",
              "max         1.000000e+02       1.000000e+02        3.000000e+06   \n",
              "\n",
              "       AR_P_Proto_P_Dport  Pkts_P_State_P_Protocol_P_DestIP  \\\n",
              "count        3.668522e+06                      3.668522e+06   \n",
              "mean         5.385196e+02                      6.422897e+02   \n",
              "std          1.569824e+04                      4.533432e+02   \n",
              "min          0.000000e+00                      1.000000e+00   \n",
              "25%          2.457730e-01                      3.240000e+02   \n",
              "50%          3.943060e-01                      6.000000e+02   \n",
              "75%          5.769710e-01                      8.280000e+02   \n",
              "max          2.000000e+06                      1.125440e+05   \n",
              "\n",
              "       Pkts_P_State_P_Protocol_P_SrcIP        attack  \n",
              "count                     3.668522e+06  3.668522e+06  \n",
              "mean                      5.859984e+02  9.998700e-01  \n",
              "std                       4.332619e+02  1.140212e-02  \n",
              "min                       1.000000e+00  0.000000e+00  \n",
              "25%                       2.940000e+02  1.000000e+00  \n",
              "50%                       5.000000e+02  1.000000e+00  \n",
              "75%                       8.000000e+02  1.000000e+00  \n",
              "max                       1.179390e+05  1.000000e+00  \n",
              "\n",
              "[8 rows x 37 columns]"
            ]
          },
          "metadata": {},
          "output_type": "display_data"
        },
        {
          "data": {
            "text/plain": [
              "None"
            ]
          },
          "metadata": {},
          "output_type": "display_data"
        },
        {
          "data": {
            "text/plain": [
              "(3668522, 46)"
            ]
          },
          "metadata": {},
          "output_type": "display_data"
        },
        {
          "data": {
            "text/plain": [
              "168752012"
            ]
          },
          "metadata": {},
          "output_type": "display_data"
        }
      ],
      "source": [
        "display(data.describe(),data.info(),data.shape,data.size)"
      ]
    },
    {
      "cell_type": "code",
      "execution_count": null,
      "id": "b89484a9",
      "metadata": {
        "id": "b89484a9",
        "outputId": "24f8ea76-6426-49c2-f65b-2b750920f0d4"
      },
      "outputs": [
        {
          "name": "stdout",
          "output_type": "stream",
          "text": [
            "flgs 9 \n",
            " flgs\n",
            "e        2293445\n",
            "e s      1245171\n",
            "e g        94344\n",
            "eU         34599\n",
            "e *          816\n",
            "e d          137\n",
            "e &            5\n",
            "e   t          4\n",
            "e  D           1\n",
            "Name: count, dtype: int64\n",
            "proto 5 \n",
            " proto\n",
            "udp          1996437\n",
            "tcp          1662812\n",
            "icmp            9052\n",
            "arp              213\n",
            "ipv6-icmp          8\n",
            "Name: count, dtype: int64\n",
            "saddr 21 \n",
            " saddr\n",
            "192.168.100.147              950966\n",
            "192.168.100.148              923290\n",
            "192.168.100.150              890262\n",
            "192.168.100.149              890146\n",
            "192.168.100.3                  8281\n",
            "192.168.100.5                  5118\n",
            "192.168.100.6                   327\n",
            "192.168.100.7                    43\n",
            "192.168.100.4                    19\n",
            "192.168.100.1                    16\n",
            "192.168.100.46                   15\n",
            "192.168.100.27                   14\n",
            "fe80::250:56ff:febe:254           6\n",
            "fe80::c0c0:aa20:45b9:bdd9         4\n",
            "192.168.100.55                    3\n",
            "fe80::250:56ff:febe:e9d9          2\n",
            "fe80::250:56ff:febe:26db          2\n",
            "fe80::250:56ff:febe:89ee          2\n",
            "fe80::2c6a:ff9b:7e14:166a         2\n",
            "fe80::250:56ff:febe:bf1a          2\n",
            "fe80::250:56ff:febe:c038          2\n",
            "Name: count, dtype: int64\n",
            "sport 131078 \n",
            " sport\n",
            "0x0303    8950\n",
            "80        3986\n",
            "2290      1041\n",
            "2456      1039\n",
            "1589      1037\n",
            "          ... \n",
            "51305        1\n",
            "51313        1\n",
            "51311        1\n",
            "51309        1\n",
            "51303        1\n",
            "Name: count, Length: 131078, dtype: int64\n",
            "daddr 84 \n",
            " daddr\n",
            "192.168.100.3      2375733\n",
            "192.168.100.5       451694\n",
            "192.168.100.7       414859\n",
            "192.168.100.6       412209\n",
            "192.168.100.150       3860\n",
            "                    ...   \n",
            "205.251.198.119          1\n",
            "205.251.195.185          1\n",
            "192.48.79.30             1\n",
            "198.41.0.4               1\n",
            "205.251.194.154          1\n",
            "Name: count, Length: 84, dtype: int64\n",
            "dport 7839 \n",
            " dport\n",
            "80       3225356\n",
            "80        348219\n",
            "1           6745\n",
            "3306        4613\n",
            "53           340\n",
            "          ...   \n",
            "30559          1\n",
            "30558          1\n",
            "30556          1\n",
            "30553          1\n",
            "30552          1\n",
            "Name: count, Length: 7839, dtype: int64\n",
            "state 11 \n",
            " state\n",
            "INT    1996208\n",
            "REQ     878697\n",
            "RST     775168\n",
            "URP       8950\n",
            "FIN       6387\n",
            "ACC       2476\n",
            "CON        526\n",
            "ECO         70\n",
            "TST         16\n",
            "MAS         16\n",
            "NRS          8\n",
            "Name: count, dtype: int64\n",
            "category 5 \n",
            " category\n",
            "DDoS              1926624\n",
            "DoS               1650260\n",
            "Reconnaissance      91082\n",
            "Normal                477\n",
            "Theft                  79\n",
            "Name: count, dtype: int64\n",
            "subcategory 8 \n",
            " subcategory\n",
            "UDP                  1981230\n",
            "TCP                  1593180\n",
            "Service_Scan           73168\n",
            "OS_Fingerprint         17914\n",
            "HTTP                    2474\n",
            "Normal                   477\n",
            "Keylogging                73\n",
            "Data_Exfiltration          6\n",
            "Name: count, dtype: int64\n"
          ]
        }
      ],
      "source": [
        "for col in data.select_dtypes(include=['object']).columns:\n",
        "    print(col,data[col].nunique(),\"\\n\",data[col].value_counts())"
      ]
    },
    {
      "cell_type": "code",
      "execution_count": null,
      "id": "6def3c63",
      "metadata": {
        "id": "6def3c63"
      },
      "outputs": [],
      "source": [
        "target_features = data[[\"attack\", \"category\", \"subcategory\"]]"
      ]
    },
    {
      "cell_type": "code",
      "execution_count": null,
      "id": "a6853a99",
      "metadata": {
        "id": "a6853a99",
        "outputId": "15578d40-b7ff-485c-a09d-926f49c77bb5"
      },
      "outputs": [
        {
          "name": "stdout",
          "output_type": "stream",
          "text": [
            "attack\n",
            "1    3668045\n",
            "0        477\n",
            "Name: count, dtype: int64\n",
            "category\n",
            "DDoS              1926624\n",
            "DoS               1650260\n",
            "Reconnaissance      91082\n",
            "Normal                477\n",
            "Theft                  79\n",
            "Name: count, dtype: int64\n",
            "subcategory\n",
            "UDP                  1981230\n",
            "TCP                  1593180\n",
            "Service_Scan           73168\n",
            "OS_Fingerprint         17914\n",
            "HTTP                    2474\n",
            "Normal                   477\n",
            "Keylogging                73\n",
            "Data_Exfiltration          6\n",
            "Name: count, dtype: int64\n"
          ]
        }
      ],
      "source": [
        "for col in target_features.columns:\n",
        "    print(target_features[col].value_counts())"
      ]
    },
    {
      "cell_type": "code",
      "execution_count": null,
      "id": "fcf6acdf",
      "metadata": {
        "id": "fcf6acdf"
      },
      "outputs": [],
      "source": [
        "selected_data=data.sample(n=100000,random_state=1)"
      ]
    },
    {
      "cell_type": "code",
      "execution_count": null,
      "id": "fdb09fab",
      "metadata": {
        "id": "fdb09fab",
        "outputId": "16f4c0aa-7a33-490a-ff2b-11799d8754f2"
      },
      "outputs": [
        {
          "data": {
            "text/plain": [
              "np.int64(0)"
            ]
          },
          "metadata": {},
          "output_type": "display_data"
        }
      ],
      "source": [
        "display(selected_data.duplicated().sum())\n",
        "selected_data.drop_duplicates(inplace=True)"
      ]
    },
    {
      "cell_type": "code",
      "execution_count": null,
      "id": "8dab7d9c",
      "metadata": {
        "id": "8dab7d9c"
      },
      "outputs": [],
      "source": [
        "selected_data.drop(columns='pkSeqID',inplace=True)"
      ]
    },
    {
      "cell_type": "code",
      "execution_count": null,
      "id": "c57860b0",
      "metadata": {
        "id": "c57860b0",
        "outputId": "fb5c26d3-041a-4d8a-9eab-f1e90b8f9086"
      },
      "outputs": [
        {
          "name": "stdout",
          "output_type": "stream",
          "text": [
            "attack\n",
            "1    3668045\n",
            "0        477\n",
            "Name: count, dtype: int64\n",
            "category\n",
            "DDoS              1926624\n",
            "DoS               1650260\n",
            "Reconnaissance      91082\n",
            "Normal                477\n",
            "Theft                  79\n",
            "Name: count, dtype: int64\n",
            "subcategory\n",
            "UDP                  1981230\n",
            "TCP                  1593180\n",
            "Service_Scan           73168\n",
            "OS_Fingerprint         17914\n",
            "HTTP                    2474\n",
            "Normal                   477\n",
            "Keylogging                73\n",
            "Data_Exfiltration          6\n",
            "Name: count, dtype: int64\n"
          ]
        }
      ],
      "source": [
        "target_features = data[[\"attack\", \"category\", \"subcategory\"]]\n",
        "for col in target_features.columns:\n",
        "    print(target_features[col].value_counts())"
      ]
    },
    {
      "cell_type": "markdown",
      "id": "5234b029",
      "metadata": {
        "id": "5234b029"
      },
      "source": [
        "# Selected Data Loading"
      ]
    },
    {
      "cell_type": "code",
      "execution_count": null,
      "id": "937e621b",
      "metadata": {
        "id": "937e621b"
      },
      "outputs": [],
      "source": [
        "data=selected_data"
      ]
    },
    {
      "cell_type": "code",
      "execution_count": null,
      "id": "58214dcf",
      "metadata": {
        "id": "58214dcf",
        "outputId": "41dad799-7b02-429b-fe36-260529999ffc"
      },
      "outputs": [
        {
          "name": "stdout",
          "output_type": "stream",
          "text": [
            "<class 'pandas.core.frame.DataFrame'>\n",
            "Index: 100000 entries, 615054 to 599555\n",
            "Data columns (total 45 columns):\n",
            " #   Column                            Non-Null Count   Dtype  \n",
            "---  ------                            --------------   -----  \n",
            " 0   stime                             100000 non-null  float64\n",
            " 1   flgs                              100000 non-null  object \n",
            " 2   flgs_number                       100000 non-null  int64  \n",
            " 3   proto                             100000 non-null  object \n",
            " 4   proto_number                      100000 non-null  int64  \n",
            " 5   saddr                             100000 non-null  object \n",
            " 6   sport                             100000 non-null  object \n",
            " 7   daddr                             100000 non-null  object \n",
            " 8   dport                             100000 non-null  object \n",
            " 9   pkts                              100000 non-null  int64  \n",
            " 10  bytes                             100000 non-null  int64  \n",
            " 11  state                             100000 non-null  object \n",
            " 12  state_number                      100000 non-null  int64  \n",
            " 13  ltime                             100000 non-null  float64\n",
            " 14  seq                               100000 non-null  int64  \n",
            " 15  dur                               100000 non-null  float64\n",
            " 16  mean                              100000 non-null  float64\n",
            " 17  stddev                            100000 non-null  float64\n",
            " 18  sum                               100000 non-null  float64\n",
            " 19  min                               100000 non-null  float64\n",
            " 20  max                               100000 non-null  float64\n",
            " 21  spkts                             100000 non-null  int64  \n",
            " 22  dpkts                             100000 non-null  int64  \n",
            " 23  sbytes                            100000 non-null  int64  \n",
            " 24  dbytes                            100000 non-null  int64  \n",
            " 25  rate                              100000 non-null  float64\n",
            " 26  srate                             100000 non-null  float64\n",
            " 27  drate                             100000 non-null  float64\n",
            " 28  TnBPSrcIP                         100000 non-null  int64  \n",
            " 29  TnBPDstIP                         100000 non-null  int64  \n",
            " 30  TnP_PSrcIP                        100000 non-null  int64  \n",
            " 31  TnP_PDstIP                        100000 non-null  int64  \n",
            " 32  TnP_PerProto                      100000 non-null  int64  \n",
            " 33  TnP_Per_Dport                     100000 non-null  int64  \n",
            " 34  AR_P_Proto_P_SrcIP                100000 non-null  float64\n",
            " 35  AR_P_Proto_P_DstIP                100000 non-null  float64\n",
            " 36  N_IN_Conn_P_DstIP                 100000 non-null  int64  \n",
            " 37  N_IN_Conn_P_SrcIP                 100000 non-null  int64  \n",
            " 38  AR_P_Proto_P_Sport                100000 non-null  float64\n",
            " 39  AR_P_Proto_P_Dport                100000 non-null  float64\n",
            " 40  Pkts_P_State_P_Protocol_P_DestIP  100000 non-null  int64  \n",
            " 41  Pkts_P_State_P_Protocol_P_SrcIP   100000 non-null  int64  \n",
            " 42  attack                            100000 non-null  int64  \n",
            " 43  category                          100000 non-null  object \n",
            " 44  subcategory                       100000 non-null  object \n",
            "dtypes: float64(15), int64(21), object(9)\n",
            "memory usage: 35.1+ MB\n"
          ]
        },
        {
          "data": {
            "text/plain": [
              "None"
            ]
          },
          "metadata": {},
          "output_type": "display_data"
        },
        {
          "data": {
            "application/vnd.microsoft.datawrangler.viewer.v0+json": {
              "columns": [
                {
                  "name": "index",
                  "rawType": "object",
                  "type": "string"
                },
                {
                  "name": "stime",
                  "rawType": "float64",
                  "type": "float"
                },
                {
                  "name": "flgs_number",
                  "rawType": "float64",
                  "type": "float"
                },
                {
                  "name": "proto_number",
                  "rawType": "float64",
                  "type": "float"
                },
                {
                  "name": "pkts",
                  "rawType": "float64",
                  "type": "float"
                },
                {
                  "name": "bytes",
                  "rawType": "float64",
                  "type": "float"
                },
                {
                  "name": "state_number",
                  "rawType": "float64",
                  "type": "float"
                },
                {
                  "name": "ltime",
                  "rawType": "float64",
                  "type": "float"
                },
                {
                  "name": "seq",
                  "rawType": "float64",
                  "type": "float"
                },
                {
                  "name": "dur",
                  "rawType": "float64",
                  "type": "float"
                },
                {
                  "name": "mean",
                  "rawType": "float64",
                  "type": "float"
                },
                {
                  "name": "stddev",
                  "rawType": "float64",
                  "type": "float"
                },
                {
                  "name": "sum",
                  "rawType": "float64",
                  "type": "float"
                },
                {
                  "name": "min",
                  "rawType": "float64",
                  "type": "float"
                },
                {
                  "name": "max",
                  "rawType": "float64",
                  "type": "float"
                },
                {
                  "name": "spkts",
                  "rawType": "float64",
                  "type": "float"
                },
                {
                  "name": "dpkts",
                  "rawType": "float64",
                  "type": "float"
                },
                {
                  "name": "sbytes",
                  "rawType": "float64",
                  "type": "float"
                },
                {
                  "name": "dbytes",
                  "rawType": "float64",
                  "type": "float"
                },
                {
                  "name": "rate",
                  "rawType": "float64",
                  "type": "float"
                },
                {
                  "name": "srate",
                  "rawType": "float64",
                  "type": "float"
                },
                {
                  "name": "drate",
                  "rawType": "float64",
                  "type": "float"
                },
                {
                  "name": "TnBPSrcIP",
                  "rawType": "float64",
                  "type": "float"
                },
                {
                  "name": "TnBPDstIP",
                  "rawType": "float64",
                  "type": "float"
                },
                {
                  "name": "TnP_PSrcIP",
                  "rawType": "float64",
                  "type": "float"
                },
                {
                  "name": "TnP_PDstIP",
                  "rawType": "float64",
                  "type": "float"
                },
                {
                  "name": "TnP_PerProto",
                  "rawType": "float64",
                  "type": "float"
                },
                {
                  "name": "TnP_Per_Dport",
                  "rawType": "float64",
                  "type": "float"
                },
                {
                  "name": "AR_P_Proto_P_SrcIP",
                  "rawType": "float64",
                  "type": "float"
                },
                {
                  "name": "AR_P_Proto_P_DstIP",
                  "rawType": "float64",
                  "type": "float"
                },
                {
                  "name": "N_IN_Conn_P_DstIP",
                  "rawType": "float64",
                  "type": "float"
                },
                {
                  "name": "N_IN_Conn_P_SrcIP",
                  "rawType": "float64",
                  "type": "float"
                },
                {
                  "name": "AR_P_Proto_P_Sport",
                  "rawType": "float64",
                  "type": "float"
                },
                {
                  "name": "AR_P_Proto_P_Dport",
                  "rawType": "float64",
                  "type": "float"
                },
                {
                  "name": "Pkts_P_State_P_Protocol_P_DestIP",
                  "rawType": "float64",
                  "type": "float"
                },
                {
                  "name": "Pkts_P_State_P_Protocol_P_SrcIP",
                  "rawType": "float64",
                  "type": "float"
                },
                {
                  "name": "attack",
                  "rawType": "float64",
                  "type": "float"
                }
              ],
              "conversionMethod": "pd.DataFrame",
              "ref": "2e5d8f91-dc35-4e1e-b0df-f5b8527b4774",
              "rows": [
                [
                  "count",
                  "100000.0",
                  "100000.0",
                  "100000.0",
                  "100000.0",
                  "100000.0",
                  "100000.0",
                  "100000.0",
                  "100000.0",
                  "100000.0",
                  "100000.0",
                  "100000.0",
                  "100000.0",
                  "100000.0",
                  "100000.0",
                  "100000.0",
                  "100000.0",
                  "100000.0",
                  "100000.0",
                  "100000.0",
                  "100000.0",
                  "100000.0",
                  "100000.0",
                  "100000.0",
                  "100000.0",
                  "100000.0",
                  "100000.0",
                  "100000.0",
                  "100000.0",
                  "100000.0",
                  "100000.0",
                  "100000.0",
                  "100000.0",
                  "100000.0",
                  "100000.0",
                  "100000.0",
                  "100000.0"
                ],
                [
                  "mean",
                  "1528050538.376105",
                  "1.48831",
                  "2.0962",
                  "7.40999",
                  "600.54994",
                  "3.13497",
                  "1528050558.6929162",
                  "121383.90102",
                  "20.317202201329998",
                  "2.23096490536",
                  "0.8843723223200001",
                  "7.706711981940001",
                  "1.02023860664",
                  "3.01663514709",
                  "7.08133",
                  "0.32866",
                  "578.31987",
                  "22.23007",
                  "259.74952668305",
                  "2.2954541623599996",
                  "0.31735114904",
                  "50695.83523",
                  "55587.28689",
                  "618.61227",
                  "685.16049",
                  "754.78159",
                  "735.36499",
                  "325.43347204917046",
                  "287.08614010432024",
                  "92.45445",
                  "82.49621",
                  "456.5265281371521",
                  "558.9022241810503",
                  "640.57106",
                  "584.27196",
                  "0.99987"
                ],
                [
                  "std",
                  "257275.7789427159",
                  "0.8620503321777401",
                  "0.9989572258887723",
                  "3.7074486714796895",
                  "412.6001901298221",
                  "1.1863587878764736",
                  "257276.72184690827",
                  "75803.32935951061",
                  "19.582472997195463",
                  "1.5200913719902842",
                  "0.8037056906361867",
                  "5.665847941841717",
                  "1.4860004923084136",
                  "1.8626512176973902",
                  "3.8205080020743236",
                  "0.7413151151035562",
                  "240.9387671755593",
                  "254.4954144124303",
                  "8645.776552860605",
                  "139.7987581771161",
                  "19.479007060087152",
                  "369814.48808209423",
                  "26056.61237135186",
                  "524.7694469051825",
                  "363.67698893727487",
                  "1562.7914243165756",
                  "362.2692306589875",
                  "5750.041152003107",
                  "3765.860432189263",
                  "18.168139861046868",
                  "24.41758931226787",
                  "15173.686844699907",
                  "16996.247870136543",
                  "394.60447683396575",
                  "389.7289840704289",
                  "0.011401070118370398"
                ],
                [
                  "min",
                  "1526344328.37153",
                  "1.0",
                  "1.0",
                  "1.0",
                  "60.0",
                  "1.0",
                  "1526344332.97309",
                  "3.0",
                  "0.0",
                  "0.0",
                  "0.0",
                  "0.0",
                  "0.0",
                  "0.0",
                  "1.0",
                  "0.0",
                  "60.0",
                  "0.0",
                  "0.0",
                  "0.0",
                  "0.0",
                  "70.0",
                  "70.0",
                  "1.0",
                  "1.0",
                  "1.0",
                  "1.0",
                  "0.0",
                  "0.0",
                  "1.0",
                  "1.0",
                  "0.0",
                  "0.0",
                  "1.0",
                  "1.0",
                  "0.0"
                ],
                [
                  "25%",
                  "1528084926.27814",
                  "1.0",
                  "1.0",
                  "5.0",
                  "420.0",
                  "3.0",
                  "1528084951.0038924",
                  "55397.75",
                  "12.56188725",
                  "0.179442",
                  "0.02945625",
                  "0.3377265",
                  "0.0",
                  "0.27797375",
                  "5.0",
                  "0.0",
                  "420.0",
                  "0.0",
                  "0.19143725",
                  "0.15548275",
                  "0.0",
                  "31880.0",
                  "38880.0",
                  "350.0",
                  "437.0",
                  "502.0",
                  "500.0",
                  "0.235823",
                  "0.243726",
                  "100.0",
                  "69.0",
                  "0.23079850000000002",
                  "0.245763",
                  "324.0",
                  "292.0",
                  "1.0"
                ],
                [
                  "50%",
                  "1528095723.57937",
                  "1.0",
                  "3.0",
                  "7.0",
                  "600.0",
                  "4.0",
                  "1528095729.447465",
                  "117495.0",
                  "15.514918000000002",
                  "2.6902855",
                  "0.770699",
                  "8.275550500000001",
                  "0.0",
                  "4.0076025",
                  "6.0",
                  "0.0",
                  "600.0",
                  "0.0",
                  "0.305711",
                  "0.28377",
                  "0.0",
                  "47520.0",
                  "54000.0",
                  "566.0",
                  "612.0",
                  "700.0",
                  "700.0",
                  "0.389645",
                  "0.397827",
                  "100.0",
                  "100.0",
                  "0.378127",
                  "0.393698",
                  "600.0",
                  "500.0",
                  "1.0"
                ],
                [
                  "75%",
                  "1528099321.9334226",
                  "2.0",
                  "3.0",
                  "9.0",
                  "770.0",
                  "4.0",
                  "1528099335.8375726",
                  "184952.75",
                  "27.174828",
                  "3.565564",
                  "1.7446365",
                  "11.71255275",
                  "2.1571612499999997",
                  "4.2935055",
                  "8.0",
                  "0.0",
                  "770.0",
                  "0.0",
                  "0.493009",
                  "0.486098",
                  "0.0",
                  "66000.0",
                  "75120.0",
                  "800.0",
                  "832.0",
                  "924.0",
                  "922.0",
                  "0.5725024999999999",
                  "0.57858375",
                  "100.0",
                  "100.0",
                  "0.572494",
                  "0.576908",
                  "824.0",
                  "800.0",
                  "1.0"
                ],
                [
                  "max",
                  "1529380776.13715",
                  "6.0",
                  "5.0",
                  "78.0",
                  "71470.0",
                  "11.0",
                  "1529380776.13737",
                  "262201.0",
                  "1676.484863",
                  "4.980446",
                  "2.496741",
                  "23.450588",
                  "4.980423",
                  "4.999984",
                  "39.0",
                  "40.0",
                  "18840.0",
                  "53083.0",
                  "1000000.0",
                  "24390.244141",
                  "4126.547363",
                  "116736097.0",
                  "1163024.0",
                  "118038.0",
                  "2280.0",
                  "200009.0",
                  "20882.0",
                  "825397.0",
                  "255682.0",
                  "100.0",
                  "100.0",
                  "3000000.0",
                  "2000000.0",
                  "2189.0",
                  "1800.0",
                  "1.0"
                ]
              ],
              "shape": {
                "columns": 36,
                "rows": 8
              }
            },
            "text/html": [
              "<div>\n",
              "<style scoped>\n",
              "    .dataframe tbody tr th:only-of-type {\n",
              "        vertical-align: middle;\n",
              "    }\n",
              "\n",
              "    .dataframe tbody tr th {\n",
              "        vertical-align: top;\n",
              "    }\n",
              "\n",
              "    .dataframe thead th {\n",
              "        text-align: right;\n",
              "    }\n",
              "</style>\n",
              "<table border=\"1\" class=\"dataframe\">\n",
              "  <thead>\n",
              "    <tr style=\"text-align: right;\">\n",
              "      <th></th>\n",
              "      <th>stime</th>\n",
              "      <th>flgs_number</th>\n",
              "      <th>proto_number</th>\n",
              "      <th>pkts</th>\n",
              "      <th>bytes</th>\n",
              "      <th>state_number</th>\n",
              "      <th>ltime</th>\n",
              "      <th>seq</th>\n",
              "      <th>dur</th>\n",
              "      <th>mean</th>\n",
              "      <th>...</th>\n",
              "      <th>TnP_Per_Dport</th>\n",
              "      <th>AR_P_Proto_P_SrcIP</th>\n",
              "      <th>AR_P_Proto_P_DstIP</th>\n",
              "      <th>N_IN_Conn_P_DstIP</th>\n",
              "      <th>N_IN_Conn_P_SrcIP</th>\n",
              "      <th>AR_P_Proto_P_Sport</th>\n",
              "      <th>AR_P_Proto_P_Dport</th>\n",
              "      <th>Pkts_P_State_P_Protocol_P_DestIP</th>\n",
              "      <th>Pkts_P_State_P_Protocol_P_SrcIP</th>\n",
              "      <th>attack</th>\n",
              "    </tr>\n",
              "  </thead>\n",
              "  <tbody>\n",
              "    <tr>\n",
              "      <th>count</th>\n",
              "      <td>1.000000e+05</td>\n",
              "      <td>100000.00000</td>\n",
              "      <td>100000.000000</td>\n",
              "      <td>100000.000000</td>\n",
              "      <td>100000.00000</td>\n",
              "      <td>100000.000000</td>\n",
              "      <td>1.000000e+05</td>\n",
              "      <td>100000.00000</td>\n",
              "      <td>100000.000000</td>\n",
              "      <td>100000.000000</td>\n",
              "      <td>...</td>\n",
              "      <td>100000.000000</td>\n",
              "      <td>100000.000000</td>\n",
              "      <td>100000.000000</td>\n",
              "      <td>100000.00000</td>\n",
              "      <td>100000.000000</td>\n",
              "      <td>1.000000e+05</td>\n",
              "      <td>1.000000e+05</td>\n",
              "      <td>100000.000000</td>\n",
              "      <td>100000.000000</td>\n",
              "      <td>100000.000000</td>\n",
              "    </tr>\n",
              "    <tr>\n",
              "      <th>mean</th>\n",
              "      <td>1.528051e+09</td>\n",
              "      <td>1.48831</td>\n",
              "      <td>2.096200</td>\n",
              "      <td>7.409990</td>\n",
              "      <td>600.54994</td>\n",
              "      <td>3.134970</td>\n",
              "      <td>1.528051e+09</td>\n",
              "      <td>121383.90102</td>\n",
              "      <td>20.317202</td>\n",
              "      <td>2.230965</td>\n",
              "      <td>...</td>\n",
              "      <td>735.364990</td>\n",
              "      <td>325.433472</td>\n",
              "      <td>287.086140</td>\n",
              "      <td>92.45445</td>\n",
              "      <td>82.496210</td>\n",
              "      <td>4.565265e+02</td>\n",
              "      <td>5.589022e+02</td>\n",
              "      <td>640.571060</td>\n",
              "      <td>584.271960</td>\n",
              "      <td>0.999870</td>\n",
              "    </tr>\n",
              "    <tr>\n",
              "      <th>std</th>\n",
              "      <td>2.572758e+05</td>\n",
              "      <td>0.86205</td>\n",
              "      <td>0.998957</td>\n",
              "      <td>3.707449</td>\n",
              "      <td>412.60019</td>\n",
              "      <td>1.186359</td>\n",
              "      <td>2.572767e+05</td>\n",
              "      <td>75803.32936</td>\n",
              "      <td>19.582473</td>\n",
              "      <td>1.520091</td>\n",
              "      <td>...</td>\n",
              "      <td>362.269231</td>\n",
              "      <td>5750.041152</td>\n",
              "      <td>3765.860432</td>\n",
              "      <td>18.16814</td>\n",
              "      <td>24.417589</td>\n",
              "      <td>1.517369e+04</td>\n",
              "      <td>1.699625e+04</td>\n",
              "      <td>394.604477</td>\n",
              "      <td>389.728984</td>\n",
              "      <td>0.011401</td>\n",
              "    </tr>\n",
              "    <tr>\n",
              "      <th>min</th>\n",
              "      <td>1.526344e+09</td>\n",
              "      <td>1.00000</td>\n",
              "      <td>1.000000</td>\n",
              "      <td>1.000000</td>\n",
              "      <td>60.00000</td>\n",
              "      <td>1.000000</td>\n",
              "      <td>1.526344e+09</td>\n",
              "      <td>3.00000</td>\n",
              "      <td>0.000000</td>\n",
              "      <td>0.000000</td>\n",
              "      <td>...</td>\n",
              "      <td>1.000000</td>\n",
              "      <td>0.000000</td>\n",
              "      <td>0.000000</td>\n",
              "      <td>1.00000</td>\n",
              "      <td>1.000000</td>\n",
              "      <td>0.000000e+00</td>\n",
              "      <td>0.000000e+00</td>\n",
              "      <td>1.000000</td>\n",
              "      <td>1.000000</td>\n",
              "      <td>0.000000</td>\n",
              "    </tr>\n",
              "    <tr>\n",
              "      <th>25%</th>\n",
              "      <td>1.528085e+09</td>\n",
              "      <td>1.00000</td>\n",
              "      <td>1.000000</td>\n",
              "      <td>5.000000</td>\n",
              "      <td>420.00000</td>\n",
              "      <td>3.000000</td>\n",
              "      <td>1.528085e+09</td>\n",
              "      <td>55397.75000</td>\n",
              "      <td>12.561887</td>\n",
              "      <td>0.179442</td>\n",
              "      <td>...</td>\n",
              "      <td>500.000000</td>\n",
              "      <td>0.235823</td>\n",
              "      <td>0.243726</td>\n",
              "      <td>100.00000</td>\n",
              "      <td>69.000000</td>\n",
              "      <td>2.307985e-01</td>\n",
              "      <td>2.457630e-01</td>\n",
              "      <td>324.000000</td>\n",
              "      <td>292.000000</td>\n",
              "      <td>1.000000</td>\n",
              "    </tr>\n",
              "    <tr>\n",
              "      <th>50%</th>\n",
              "      <td>1.528096e+09</td>\n",
              "      <td>1.00000</td>\n",
              "      <td>3.000000</td>\n",
              "      <td>7.000000</td>\n",
              "      <td>600.00000</td>\n",
              "      <td>4.000000</td>\n",
              "      <td>1.528096e+09</td>\n",
              "      <td>117495.00000</td>\n",
              "      <td>15.514918</td>\n",
              "      <td>2.690285</td>\n",
              "      <td>...</td>\n",
              "      <td>700.000000</td>\n",
              "      <td>0.389645</td>\n",
              "      <td>0.397827</td>\n",
              "      <td>100.00000</td>\n",
              "      <td>100.000000</td>\n",
              "      <td>3.781270e-01</td>\n",
              "      <td>3.936980e-01</td>\n",
              "      <td>600.000000</td>\n",
              "      <td>500.000000</td>\n",
              "      <td>1.000000</td>\n",
              "    </tr>\n",
              "    <tr>\n",
              "      <th>75%</th>\n",
              "      <td>1.528099e+09</td>\n",
              "      <td>2.00000</td>\n",
              "      <td>3.000000</td>\n",
              "      <td>9.000000</td>\n",
              "      <td>770.00000</td>\n",
              "      <td>4.000000</td>\n",
              "      <td>1.528099e+09</td>\n",
              "      <td>184952.75000</td>\n",
              "      <td>27.174828</td>\n",
              "      <td>3.565564</td>\n",
              "      <td>...</td>\n",
              "      <td>922.000000</td>\n",
              "      <td>0.572502</td>\n",
              "      <td>0.578584</td>\n",
              "      <td>100.00000</td>\n",
              "      <td>100.000000</td>\n",
              "      <td>5.724940e-01</td>\n",
              "      <td>5.769080e-01</td>\n",
              "      <td>824.000000</td>\n",
              "      <td>800.000000</td>\n",
              "      <td>1.000000</td>\n",
              "    </tr>\n",
              "    <tr>\n",
              "      <th>max</th>\n",
              "      <td>1.529381e+09</td>\n",
              "      <td>6.00000</td>\n",
              "      <td>5.000000</td>\n",
              "      <td>78.000000</td>\n",
              "      <td>71470.00000</td>\n",
              "      <td>11.000000</td>\n",
              "      <td>1.529381e+09</td>\n",
              "      <td>262201.00000</td>\n",
              "      <td>1676.484863</td>\n",
              "      <td>4.980446</td>\n",
              "      <td>...</td>\n",
              "      <td>20882.000000</td>\n",
              "      <td>825397.000000</td>\n",
              "      <td>255682.000000</td>\n",
              "      <td>100.00000</td>\n",
              "      <td>100.000000</td>\n",
              "      <td>3.000000e+06</td>\n",
              "      <td>2.000000e+06</td>\n",
              "      <td>2189.000000</td>\n",
              "      <td>1800.000000</td>\n",
              "      <td>1.000000</td>\n",
              "    </tr>\n",
              "  </tbody>\n",
              "</table>\n",
              "<p>8 rows × 36 columns</p>\n",
              "</div>"
            ],
            "text/plain": [
              "              stime   flgs_number   proto_number           pkts         bytes  \\\n",
              "count  1.000000e+05  100000.00000  100000.000000  100000.000000  100000.00000   \n",
              "mean   1.528051e+09       1.48831       2.096200       7.409990     600.54994   \n",
              "std    2.572758e+05       0.86205       0.998957       3.707449     412.60019   \n",
              "min    1.526344e+09       1.00000       1.000000       1.000000      60.00000   \n",
              "25%    1.528085e+09       1.00000       1.000000       5.000000     420.00000   \n",
              "50%    1.528096e+09       1.00000       3.000000       7.000000     600.00000   \n",
              "75%    1.528099e+09       2.00000       3.000000       9.000000     770.00000   \n",
              "max    1.529381e+09       6.00000       5.000000      78.000000   71470.00000   \n",
              "\n",
              "        state_number         ltime           seq            dur  \\\n",
              "count  100000.000000  1.000000e+05  100000.00000  100000.000000   \n",
              "mean        3.134970  1.528051e+09  121383.90102      20.317202   \n",
              "std         1.186359  2.572767e+05   75803.32936      19.582473   \n",
              "min         1.000000  1.526344e+09       3.00000       0.000000   \n",
              "25%         3.000000  1.528085e+09   55397.75000      12.561887   \n",
              "50%         4.000000  1.528096e+09  117495.00000      15.514918   \n",
              "75%         4.000000  1.528099e+09  184952.75000      27.174828   \n",
              "max        11.000000  1.529381e+09  262201.00000    1676.484863   \n",
              "\n",
              "                mean  ...  TnP_Per_Dport  AR_P_Proto_P_SrcIP  \\\n",
              "count  100000.000000  ...  100000.000000       100000.000000   \n",
              "mean        2.230965  ...     735.364990          325.433472   \n",
              "std         1.520091  ...     362.269231         5750.041152   \n",
              "min         0.000000  ...       1.000000            0.000000   \n",
              "25%         0.179442  ...     500.000000            0.235823   \n",
              "50%         2.690285  ...     700.000000            0.389645   \n",
              "75%         3.565564  ...     922.000000            0.572502   \n",
              "max         4.980446  ...   20882.000000       825397.000000   \n",
              "\n",
              "       AR_P_Proto_P_DstIP  N_IN_Conn_P_DstIP  N_IN_Conn_P_SrcIP  \\\n",
              "count       100000.000000       100000.00000      100000.000000   \n",
              "mean           287.086140           92.45445          82.496210   \n",
              "std           3765.860432           18.16814          24.417589   \n",
              "min              0.000000            1.00000           1.000000   \n",
              "25%              0.243726          100.00000          69.000000   \n",
              "50%              0.397827          100.00000         100.000000   \n",
              "75%              0.578584          100.00000         100.000000   \n",
              "max         255682.000000          100.00000         100.000000   \n",
              "\n",
              "       AR_P_Proto_P_Sport  AR_P_Proto_P_Dport  \\\n",
              "count        1.000000e+05        1.000000e+05   \n",
              "mean         4.565265e+02        5.589022e+02   \n",
              "std          1.517369e+04        1.699625e+04   \n",
              "min          0.000000e+00        0.000000e+00   \n",
              "25%          2.307985e-01        2.457630e-01   \n",
              "50%          3.781270e-01        3.936980e-01   \n",
              "75%          5.724940e-01        5.769080e-01   \n",
              "max          3.000000e+06        2.000000e+06   \n",
              "\n",
              "       Pkts_P_State_P_Protocol_P_DestIP  Pkts_P_State_P_Protocol_P_SrcIP  \\\n",
              "count                     100000.000000                    100000.000000   \n",
              "mean                         640.571060                       584.271960   \n",
              "std                          394.604477                       389.728984   \n",
              "min                            1.000000                         1.000000   \n",
              "25%                          324.000000                       292.000000   \n",
              "50%                          600.000000                       500.000000   \n",
              "75%                          824.000000                       800.000000   \n",
              "max                         2189.000000                      1800.000000   \n",
              "\n",
              "              attack  \n",
              "count  100000.000000  \n",
              "mean        0.999870  \n",
              "std         0.011401  \n",
              "min         0.000000  \n",
              "25%         1.000000  \n",
              "50%         1.000000  \n",
              "75%         1.000000  \n",
              "max         1.000000  \n",
              "\n",
              "[8 rows x 36 columns]"
            ]
          },
          "metadata": {},
          "output_type": "display_data"
        },
        {
          "data": {
            "text/plain": [
              "(100000, 45)"
            ]
          },
          "metadata": {},
          "output_type": "display_data"
        },
        {
          "data": {
            "text/plain": [
              "4500000"
            ]
          },
          "metadata": {},
          "output_type": "display_data"
        }
      ],
      "source": [
        "display(data.info(),\n",
        "        data.describe(),\n",
        "        data.shape,\n",
        "        data.size)"
      ]
    },
    {
      "cell_type": "markdown",
      "id": "379ea9cf",
      "metadata": {
        "id": "379ea9cf"
      },
      "source": [
        "# Data Cleaning"
      ]
    },
    {
      "cell_type": "code",
      "execution_count": null,
      "id": "3f6638cb",
      "metadata": {
        "id": "3f6638cb",
        "outputId": "072ee5c0-4102-49a6-b693-d473cfbd81b1"
      },
      "outputs": [
        {
          "name": "stdout",
          "output_type": "stream",
          "text": [
            "NAN\n",
            "Series([], dtype: int64)\n",
            "\n",
            "NULL\n",
            "Series([], dtype: int64)\n"
          ]
        }
      ],
      "source": [
        "print(\"NAN\")\n",
        "nan_counts = data.isna().sum()\n",
        "print(nan_counts[nan_counts > 0])\n",
        "\n",
        "print(\"\\nNULL\")\n",
        "null_counts = data.isnull().sum()\n",
        "print(null_counts[null_counts > 0])"
      ]
    },
    {
      "cell_type": "code",
      "execution_count": null,
      "id": "cb08fef1",
      "metadata": {
        "id": "cb08fef1",
        "outputId": "b6993433-cd7f-4f11-bc64-3875dcf06c89"
      },
      "outputs": [
        {
          "data": {
            "text/plain": [
              "np.int64(0)"
            ]
          },
          "execution_count": 39,
          "metadata": {},
          "output_type": "execute_result"
        }
      ],
      "source": [
        "data.duplicated().sum()"
      ]
    },
    {
      "cell_type": "markdown",
      "id": "e04ffc3b",
      "metadata": {
        "id": "e04ffc3b"
      },
      "source": [
        "# Visualization"
      ]
    },
    {
      "cell_type": "code",
      "execution_count": null,
      "id": "6e563764",
      "metadata": {
        "id": "6e563764"
      },
      "outputs": [],
      "source": [
        "import matplotlib.pyplot as plt\n",
        "plot=data[[\"attack\", \"category\", \"subcategory\"]]"
      ]
    },
    {
      "cell_type": "code",
      "execution_count": null,
      "id": "c50a8eb3",
      "metadata": {
        "id": "c50a8eb3",
        "outputId": "3b52838e-8bdd-4a36-80aa-c041405997e2"
      },
      "outputs": [
        {
          "data": {
            "image/png": "[encoded data removed]",
            "text/plain": [
              "<Figure size 2700x900 with 3 Axes>"
            ]
          },
          "metadata": {},
          "output_type": "display_data"
        }
      ],
      "source": [
        "# Create pie charts for each column\n",
        "fig, axes = plt.subplots(1, 3, figsize=(27, 9))\n",
        "fig.suptitle('Network Attack Data Distribution', fontsize=18)\n",
        "\n",
        "for i, col in enumerate(plot.columns):\n",
        "    counts = plot[col].value_counts()\n",
        "\n",
        "    # Create a pie chart with better labeling and styling\n",
        "    wedges, texts, autotexts = axes[i].pie(\n",
        "        counts,\n",
        "        labels=None,  # We'll add a legend instead of direct labels\n",
        "        autopct='%1.1f%%',\n",
        "        startangle=90,\n",
        "        shadow=False,\n",
        "        textprops={'fontsize': 12},\n",
        "        wedgeprops={'edgecolor': 'w', 'linewidth': 1}\n",
        "    )\n",
        "\n",
        "    # Add a title for each pie chart\n",
        "    axes[i].set_title(f'Distribution of {col}', fontsize=14)\n",
        "\n",
        "    # Create legend with percentage values\n",
        "    labels = [f'{label} ({count})' for label, count in zip(counts.index, counts)]\n",
        "    axes[i].legend(wedges, labels, title=col, loc=\"center left\", bbox_to_anchor=(1, 0, 0.5, 1))\n",
        "\n",
        "plt.tight_layout()\n",
        "plt.show()"
      ]
    },
    {
      "cell_type": "code",
      "execution_count": null,
      "id": "4d2df20c",
      "metadata": {
        "id": "4d2df20c",
        "outputId": "11d861b8-15a7-46c7-b03f-c75174a0e406"
      },
      "outputs": [
        {
          "name": "stderr",
          "output_type": "stream",
          "text": [
            "C:\\Users\\kakan\\AppData\\Local\\Temp\\ipykernel_1860\\273090073.py:15: FutureWarning: \n",
            "\n",
            "Passing `palette` without assigning `hue` is deprecated and will be removed in v0.14.0. Assign the `x` variable to `hue` and set `legend=False` for the same effect.\n",
            "\n",
            "  bars = sns.barplot(\n",
            "C:\\Users\\kakan\\AppData\\Local\\Temp\\ipykernel_1860\\273090073.py:39: UserWarning: set_ticklabels() should only be used with a fixed number of ticks, i.e. after set_ticks() or using a FixedLocator.\n",
            "  axes[i].set_xticklabels(counts.index, rotation=45, ha='right')\n",
            "C:\\Users\\kakan\\AppData\\Local\\Temp\\ipykernel_1860\\273090073.py:15: FutureWarning: \n",
            "\n",
            "Passing `palette` without assigning `hue` is deprecated and will be removed in v0.14.0. Assign the `x` variable to `hue` and set `legend=False` for the same effect.\n",
            "\n",
            "  bars = sns.barplot(\n",
            "C:\\Users\\kakan\\AppData\\Local\\Temp\\ipykernel_1860\\273090073.py:39: UserWarning: set_ticklabels() should only be used with a fixed number of ticks, i.e. after set_ticks() or using a FixedLocator.\n",
            "  axes[i].set_xticklabels(counts.index, rotation=45, ha='right')\n",
            "C:\\Users\\kakan\\AppData\\Local\\Temp\\ipykernel_1860\\273090073.py:15: FutureWarning: \n",
            "\n",
            "Passing `palette` without assigning `hue` is deprecated and will be removed in v0.14.0. Assign the `x` variable to `hue` and set `legend=False` for the same effect.\n",
            "\n",
            "  bars = sns.barplot(\n",
            "C:\\Users\\kakan\\AppData\\Local\\Temp\\ipykernel_1860\\273090073.py:39: UserWarning: set_ticklabels() should only be used with a fixed number of ticks, i.e. after set_ticks() or using a FixedLocator.\n",
            "  axes[i].set_xticklabels(counts.index, rotation=45, ha='right')\n"
          ]
        },
        {
          "data": {
            "image/png": "[encoded data removed]",
            "text/plain": [
              "<Figure size 2700x900 with 3 Axes>"
            ]
          },
          "metadata": {},
          "output_type": "display_data"
        }
      ],
      "source": [
        "# Create histogram plots for each column\n",
        "import matplotlib.pyplot as plt\n",
        "import seaborn as sns\n",
        "\n",
        "# Setting the style for better visualization\n",
        "sns.set_style(\"whitegrid\")\n",
        "\n",
        "fig, axes = plt.subplots(1, 3, figsize=(27, 9))\n",
        "fig.suptitle('Network Attack Data Distribution', fontsize=18)\n",
        "\n",
        "for i, col in enumerate(plot.columns):\n",
        "    counts = plot[col].value_counts().sort_values(ascending=False)\n",
        "\n",
        "    # Create a histogram (bar plot) with better styling\n",
        "    bars = sns.barplot(\n",
        "        x=counts.index,\n",
        "        y=counts.values,\n",
        "        ax=axes[i],\n",
        "        palette='Blues_d'\n",
        "    )\n",
        "\n",
        "    # Add value labels on top of each bar\n",
        "    for j, bar in enumerate(bars.patches):\n",
        "        bar_height = bar.get_height()\n",
        "        percentage = 100 * bar_height / counts.sum()\n",
        "        axes[i].text(\n",
        "            bar.get_x() + bar.get_width()/2.,\n",
        "            bar_height + (counts.max() * 0.02),  # Small offset above the bar\n",
        "            f'{int(bar_height)}\\n({percentage:.1f}%)',\n",
        "            ha='center',\n",
        "            va='bottom',\n",
        "            fontsize=10\n",
        "        )\n",
        "\n",
        "    # Add a title for each histogram\n",
        "    axes[i].set_title(f'Distribution of {col}', fontsize=14)\n",
        "\n",
        "    # Rotate x-axis labels for better readability\n",
        "    axes[i].set_xticklabels(counts.index, rotation=45, ha='right')\n",
        "\n",
        "    # Add y-axis label\n",
        "    axes[i].set_ylabel('Count')\n",
        "\n",
        "    # Remove x-axis label\n",
        "    axes[i].set_xlabel('')\n",
        "\n",
        "plt.tight_layout()\n",
        "plt.subplots_adjust(top=0.9)  # Adjust to make room for the main title\n",
        "plt.show()"
      ]
    },
    {
      "cell_type": "markdown",
      "id": "a6d8ede5",
      "metadata": {
        "id": "a6d8ede5"
      },
      "source": [
        "# Encoding"
      ]
    },
    {
      "cell_type": "code",
      "execution_count": null,
      "id": "81395870",
      "metadata": {
        "id": "81395870",
        "outputId": "80d469df-ba5a-4292-a486-1e6ba67ee9ff"
      },
      "outputs": [
        {
          "name": "stdout",
          "output_type": "stream",
          "text": [
            "flgs \n",
            " 6\n",
            "proto \n",
            " 5\n",
            "saddr \n",
            " 10\n",
            "sport \n",
            " 58311\n",
            "daddr \n",
            " 16\n",
            "dport \n",
            " 1498\n",
            "state \n",
            " 10\n",
            "category \n",
            " 5\n",
            "subcategory \n",
            " 7\n"
          ]
        }
      ],
      "source": [
        "for col in data.select_dtypes('object').columns:\n",
        "    print(col,\"\\n\",data[col].nunique())"
      ]
    },
    {
      "cell_type": "code",
      "execution_count": null,
      "id": "169f0f51",
      "metadata": {
        "id": "169f0f51",
        "outputId": "38b5a11f-c9b6-47cc-fd11-db57d873dd00"
      },
      "outputs": [
        {
          "data": {
            "application/vnd.microsoft.datawrangler.viewer.v0+json": {
              "columns": [
                {
                  "name": "index",
                  "rawType": "int64",
                  "type": "integer"
                },
                {
                  "name": "stime",
                  "rawType": "float64",
                  "type": "float"
                },
                {
                  "name": "flgs",
                  "rawType": "int64",
                  "type": "integer"
                },
                {
                  "name": "flgs_number",
                  "rawType": "int64",
                  "type": "integer"
                },
                {
                  "name": "proto",
                  "rawType": "int64",
                  "type": "integer"
                },
                {
                  "name": "proto_number",
                  "rawType": "int64",
                  "type": "integer"
                },
                {
                  "name": "saddr",
                  "rawType": "int64",
                  "type": "integer"
                },
                {
                  "name": "sport",
                  "rawType": "int64",
                  "type": "integer"
                },
                {
                  "name": "daddr",
                  "rawType": "int64",
                  "type": "integer"
                },
                {
                  "name": "dport",
                  "rawType": "int64",
                  "type": "integer"
                },
                {
                  "name": "pkts",
                  "rawType": "int64",
                  "type": "integer"
                },
                {
                  "name": "bytes",
                  "rawType": "int64",
                  "type": "integer"
                },
                {
                  "name": "state",
                  "rawType": "int64",
                  "type": "integer"
                },
                {
                  "name": "state_number",
                  "rawType": "int64",
                  "type": "integer"
                },
                {
                  "name": "ltime",
                  "rawType": "float64",
                  "type": "float"
                },
                {
                  "name": "seq",
                  "rawType": "int64",
                  "type": "integer"
                },
                {
                  "name": "dur",
                  "rawType": "float64",
                  "type": "float"
                },
                {
                  "name": "mean",
                  "rawType": "float64",
                  "type": "float"
                },
                {
                  "name": "stddev",
                  "rawType": "float64",
                  "type": "float"
                },
                {
                  "name": "sum",
                  "rawType": "float64",
                  "type": "float"
                },
                {
                  "name": "min",
                  "rawType": "float64",
                  "type": "float"
                },
                {
                  "name": "max",
                  "rawType": "float64",
                  "type": "float"
                },
                {
                  "name": "spkts",
                  "rawType": "int64",
                  "type": "integer"
                },
                {
                  "name": "dpkts",
                  "rawType": "int64",
                  "type": "integer"
                },
                {
                  "name": "sbytes",
                  "rawType": "int64",
                  "type": "integer"
                },
                {
                  "name": "dbytes",
                  "rawType": "int64",
                  "type": "integer"
                },
                {
                  "name": "rate",
                  "rawType": "float64",
                  "type": "float"
                },
                {
                  "name": "srate",
                  "rawType": "float64",
                  "type": "float"
                },
                {
                  "name": "drate",
                  "rawType": "float64",
                  "type": "float"
                },
                {
                  "name": "TnBPSrcIP",
                  "rawType": "int64",
                  "type": "integer"
                },
                {
                  "name": "TnBPDstIP",
                  "rawType": "int64",
                  "type": "integer"
                },
                {
                  "name": "TnP_PSrcIP",
                  "rawType": "int64",
                  "type": "integer"
                },
                {
                  "name": "TnP_PDstIP",
                  "rawType": "int64",
                  "type": "integer"
                },
                {
                  "name": "TnP_PerProto",
                  "rawType": "int64",
                  "type": "integer"
                },
                {
                  "name": "TnP_Per_Dport",
                  "rawType": "int64",
                  "type": "integer"
                },
                {
                  "name": "AR_P_Proto_P_SrcIP",
                  "rawType": "float64",
                  "type": "float"
                },
                {
                  "name": "AR_P_Proto_P_DstIP",
                  "rawType": "float64",
                  "type": "float"
                },
                {
                  "name": "N_IN_Conn_P_DstIP",
                  "rawType": "int64",
                  "type": "integer"
                },
                {
                  "name": "N_IN_Conn_P_SrcIP",
                  "rawType": "int64",
                  "type": "integer"
                },
                {
                  "name": "AR_P_Proto_P_Sport",
                  "rawType": "float64",
                  "type": "float"
                },
                {
                  "name": "AR_P_Proto_P_Dport",
                  "rawType": "float64",
                  "type": "float"
                },
                {
                  "name": "Pkts_P_State_P_Protocol_P_DestIP",
                  "rawType": "int64",
                  "type": "integer"
                },
                {
                  "name": "Pkts_P_State_P_Protocol_P_SrcIP",
                  "rawType": "int64",
                  "type": "integer"
                },
                {
                  "name": "attack",
                  "rawType": "int64",
                  "type": "integer"
                },
                {
                  "name": "category",
                  "rawType": "int64",
                  "type": "integer"
                },
                {
                  "name": "subcategory",
                  "rawType": "int64",
                  "type": "integer"
                }
              ],
              "conversionMethod": "pd.DataFrame",
              "ref": "3fb87f47-9ae3-4551-ae51-c48dafa1b00c",
              "rows": [
                [
                  "746154",
                  "1528084923.83155",
                  "0",
                  "1",
                  "4",
                  "3",
                  "3",
                  "12322",
                  "5",
                  "1348",
                  "6",
                  "360",
                  "4",
                  "4",
                  "1528084948.44021",
                  "128878",
                  "24.608656",
                  "2.107906",
                  "2.109754",
                  "8.431625",
                  "0.0",
                  "4.340656",
                  "6",
                  "0",
                  "360",
                  "0",
                  "0.203181",
                  "0.203181",
                  "0.0",
                  "36000",
                  "36000",
                  "600",
                  "600",
                  "600",
                  "600",
                  "0.243817",
                  "0.243817",
                  "100",
                  "100",
                  "0.243817",
                  "0.243817",
                  "600",
                  "600",
                  "1",
                  "1",
                  "6"
                ],
                [
                  "585265",
                  "1528085020.08208",
                  "0",
                  "1",
                  "4",
                  "3",
                  "2",
                  "12927",
                  "6",
                  "1348",
                  "6",
                  "360",
                  "4",
                  "4",
                  "1528085040.24585",
                  "181523",
                  "20.163767",
                  "4.026764",
                  "0.028982",
                  "12.080294",
                  "3.98585",
                  "4.049553",
                  "6",
                  "0",
                  "360",
                  "0",
                  "0.24797",
                  "0.24797",
                  "0.0",
                  "36000",
                  "36000",
                  "600",
                  "600",
                  "600",
                  "600",
                  "0.297595",
                  "0.297595",
                  "100",
                  "100",
                  "0.297563",
                  "0.297595",
                  "600",
                  "600",
                  "1",
                  "1",
                  "6"
                ],
                [
                  "484748",
                  "1528099367.89361",
                  "0",
                  "1",
                  "4",
                  "3",
                  "1",
                  "74",
                  "4",
                  "1348",
                  "15",
                  "900",
                  "4",
                  "4",
                  "1528099382.06263",
                  "69668",
                  "14.169022",
                  "4.052113",
                  "1.291417",
                  "12.156338",
                  "2.22601",
                  "4.990535",
                  "15",
                  "0",
                  "900",
                  "0",
                  "0.988071",
                  "0.988071",
                  "0.0",
                  "86880",
                  "86880",
                  "1448",
                  "1448",
                  "1448",
                  "1448",
                  "1.02239",
                  "1.02239",
                  "100",
                  "100",
                  "1.05865",
                  "1.02239",
                  "1448",
                  "1448",
                  "1",
                  "0",
                  "6"
                ],
                [
                  "429764",
                  "1528099367.48717",
                  "0",
                  "1",
                  "4",
                  "3",
                  "1",
                  "39576",
                  "4",
                  "1348",
                  "15",
                  "900",
                  "4",
                  "4",
                  "1528099381.39885",
                  "14684",
                  "13.91168",
                  "3.981374",
                  "0.821149",
                  "11.944121",
                  "2.953346",
                  "4.963148",
                  "15",
                  "0",
                  "900",
                  "0",
                  "1.006349",
                  "1.006349",
                  "0.0",
                  "90000",
                  "90000",
                  "1500",
                  "1500",
                  "1500",
                  "1500",
                  "1.07823",
                  "1.07823",
                  "100",
                  "100",
                  "1.07823",
                  "1.07823",
                  "1500",
                  "1500",
                  "1",
                  "0",
                  "6"
                ],
                [
                  "259416",
                  "1528099353.01",
                  "0",
                  "1",
                  "4",
                  "3",
                  "1",
                  "11574",
                  "4",
                  "1348",
                  "15",
                  "900",
                  "4",
                  "4",
                  "1528099366.96695",
                  "106489",
                  "13.956948",
                  "3.98352",
                  "0.822589",
                  "11.950561",
                  "2.980052",
                  "4.994929",
                  "15",
                  "0",
                  "900",
                  "0",
                  "1.003085",
                  "1.003085",
                  "0.0",
                  "90000",
                  "90000",
                  "1500",
                  "1500",
                  "1500",
                  "1500",
                  "1.07467",
                  "1.07467",
                  "100",
                  "100",
                  "1.07473",
                  "1.07467",
                  "1500",
                  "1500",
                  "1",
                  "0",
                  "6"
                ]
              ],
              "shape": {
                "columns": 45,
                "rows": 5
              }
            },
            "text/html": [
              "<div>\n",
              "<style scoped>\n",
              "    .dataframe tbody tr th:only-of-type {\n",
              "        vertical-align: middle;\n",
              "    }\n",
              "\n",
              "    .dataframe tbody tr th {\n",
              "        vertical-align: top;\n",
              "    }\n",
              "\n",
              "    .dataframe thead th {\n",
              "        text-align: right;\n",
              "    }\n",
              "</style>\n",
              "<table border=\"1\" class=\"dataframe\">\n",
              "  <thead>\n",
              "    <tr style=\"text-align: right;\">\n",
              "      <th></th>\n",
              "      <th>stime</th>\n",
              "      <th>flgs</th>\n",
              "      <th>flgs_number</th>\n",
              "      <th>proto</th>\n",
              "      <th>proto_number</th>\n",
              "      <th>saddr</th>\n",
              "      <th>sport</th>\n",
              "      <th>daddr</th>\n",
              "      <th>dport</th>\n",
              "      <th>pkts</th>\n",
              "      <th>...</th>\n",
              "      <th>AR_P_Proto_P_DstIP</th>\n",
              "      <th>N_IN_Conn_P_DstIP</th>\n",
              "      <th>N_IN_Conn_P_SrcIP</th>\n",
              "      <th>AR_P_Proto_P_Sport</th>\n",
              "      <th>AR_P_Proto_P_Dport</th>\n",
              "      <th>Pkts_P_State_P_Protocol_P_DestIP</th>\n",
              "      <th>Pkts_P_State_P_Protocol_P_SrcIP</th>\n",
              "      <th>attack</th>\n",
              "      <th>category</th>\n",
              "      <th>subcategory</th>\n",
              "    </tr>\n",
              "  </thead>\n",
              "  <tbody>\n",
              "    <tr>\n",
              "      <th>746154</th>\n",
              "      <td>1.528085e+09</td>\n",
              "      <td>0</td>\n",
              "      <td>1</td>\n",
              "      <td>4</td>\n",
              "      <td>3</td>\n",
              "      <td>3</td>\n",
              "      <td>12322</td>\n",
              "      <td>5</td>\n",
              "      <td>1348</td>\n",
              "      <td>6</td>\n",
              "      <td>...</td>\n",
              "      <td>0.243817</td>\n",
              "      <td>100</td>\n",
              "      <td>100</td>\n",
              "      <td>0.243817</td>\n",
              "      <td>0.243817</td>\n",
              "      <td>600</td>\n",
              "      <td>600</td>\n",
              "      <td>1</td>\n",
              "      <td>1</td>\n",
              "      <td>6</td>\n",
              "    </tr>\n",
              "    <tr>\n",
              "      <th>585265</th>\n",
              "      <td>1.528085e+09</td>\n",
              "      <td>0</td>\n",
              "      <td>1</td>\n",
              "      <td>4</td>\n",
              "      <td>3</td>\n",
              "      <td>2</td>\n",
              "      <td>12927</td>\n",
              "      <td>6</td>\n",
              "      <td>1348</td>\n",
              "      <td>6</td>\n",
              "      <td>...</td>\n",
              "      <td>0.297595</td>\n",
              "      <td>100</td>\n",
              "      <td>100</td>\n",
              "      <td>0.297563</td>\n",
              "      <td>0.297595</td>\n",
              "      <td>600</td>\n",
              "      <td>600</td>\n",
              "      <td>1</td>\n",
              "      <td>1</td>\n",
              "      <td>6</td>\n",
              "    </tr>\n",
              "    <tr>\n",
              "      <th>484748</th>\n",
              "      <td>1.528099e+09</td>\n",
              "      <td>0</td>\n",
              "      <td>1</td>\n",
              "      <td>4</td>\n",
              "      <td>3</td>\n",
              "      <td>1</td>\n",
              "      <td>74</td>\n",
              "      <td>4</td>\n",
              "      <td>1348</td>\n",
              "      <td>15</td>\n",
              "      <td>...</td>\n",
              "      <td>1.022390</td>\n",
              "      <td>100</td>\n",
              "      <td>100</td>\n",
              "      <td>1.058650</td>\n",
              "      <td>1.022390</td>\n",
              "      <td>1448</td>\n",
              "      <td>1448</td>\n",
              "      <td>1</td>\n",
              "      <td>0</td>\n",
              "      <td>6</td>\n",
              "    </tr>\n",
              "    <tr>\n",
              "      <th>429764</th>\n",
              "      <td>1.528099e+09</td>\n",
              "      <td>0</td>\n",
              "      <td>1</td>\n",
              "      <td>4</td>\n",
              "      <td>3</td>\n",
              "      <td>1</td>\n",
              "      <td>39576</td>\n",
              "      <td>4</td>\n",
              "      <td>1348</td>\n",
              "      <td>15</td>\n",
              "      <td>...</td>\n",
              "      <td>1.078230</td>\n",
              "      <td>100</td>\n",
              "      <td>100</td>\n",
              "      <td>1.078230</td>\n",
              "      <td>1.078230</td>\n",
              "      <td>1500</td>\n",
              "      <td>1500</td>\n",
              "      <td>1</td>\n",
              "      <td>0</td>\n",
              "      <td>6</td>\n",
              "    </tr>\n",
              "    <tr>\n",
              "      <th>259416</th>\n",
              "      <td>1.528099e+09</td>\n",
              "      <td>0</td>\n",
              "      <td>1</td>\n",
              "      <td>4</td>\n",
              "      <td>3</td>\n",
              "      <td>1</td>\n",
              "      <td>11574</td>\n",
              "      <td>4</td>\n",
              "      <td>1348</td>\n",
              "      <td>15</td>\n",
              "      <td>...</td>\n",
              "      <td>1.074670</td>\n",
              "      <td>100</td>\n",
              "      <td>100</td>\n",
              "      <td>1.074730</td>\n",
              "      <td>1.074670</td>\n",
              "      <td>1500</td>\n",
              "      <td>1500</td>\n",
              "      <td>1</td>\n",
              "      <td>0</td>\n",
              "      <td>6</td>\n",
              "    </tr>\n",
              "  </tbody>\n",
              "</table>\n",
              "<p>5 rows × 45 columns</p>\n",
              "</div>"
            ],
            "text/plain": [
              "               stime  flgs  flgs_number  proto  proto_number  saddr  sport  \\\n",
              "746154  1.528085e+09     0            1      4             3      3  12322   \n",
              "585265  1.528085e+09     0            1      4             3      2  12927   \n",
              "484748  1.528099e+09     0            1      4             3      1     74   \n",
              "429764  1.528099e+09     0            1      4             3      1  39576   \n",
              "259416  1.528099e+09     0            1      4             3      1  11574   \n",
              "\n",
              "        daddr  dport  pkts  ...  AR_P_Proto_P_DstIP  N_IN_Conn_P_DstIP  \\\n",
              "746154      5   1348     6  ...            0.243817                100   \n",
              "585265      6   1348     6  ...            0.297595                100   \n",
              "484748      4   1348    15  ...            1.022390                100   \n",
              "429764      4   1348    15  ...            1.078230                100   \n",
              "259416      4   1348    15  ...            1.074670                100   \n",
              "\n",
              "        N_IN_Conn_P_SrcIP  AR_P_Proto_P_Sport  AR_P_Proto_P_Dport  \\\n",
              "746154                100            0.243817            0.243817   \n",
              "585265                100            0.297563            0.297595   \n",
              "484748                100            1.058650            1.022390   \n",
              "429764                100            1.078230            1.078230   \n",
              "259416                100            1.074730            1.074670   \n",
              "\n",
              "        Pkts_P_State_P_Protocol_P_DestIP  Pkts_P_State_P_Protocol_P_SrcIP  \\\n",
              "746154                               600                              600   \n",
              "585265                               600                              600   \n",
              "484748                              1448                             1448   \n",
              "429764                              1500                             1500   \n",
              "259416                              1500                             1500   \n",
              "\n",
              "        attack  category  subcategory  \n",
              "746154       1         1            6  \n",
              "585265       1         1            6  \n",
              "484748       1         0            6  \n",
              "429764       1         0            6  \n",
              "259416       1         0            6  \n",
              "\n",
              "[5 rows x 45 columns]"
            ]
          },
          "execution_count": 44,
          "metadata": {},
          "output_type": "execute_result"
        }
      ],
      "source": [
        "from sklearn.preprocessing import LabelEncoder\n",
        "encoder=LabelEncoder()\n",
        "label=data.copy()\n",
        "for col in data.select_dtypes(include=['object']).columns:\n",
        "    label[col]=label[col].astype(str)\n",
        "    label[col]=encoder.fit_transform(label[col])\n",
        "\n",
        "label.sample(5)"
      ]
    },
    {
      "cell_type": "markdown",
      "id": "fb116555",
      "metadata": {
        "id": "fb116555"
      },
      "source": [
        "# Outliar Removal\n"
      ]
    },
    {
      "cell_type": "code",
      "execution_count": null,
      "id": "13515a84",
      "metadata": {
        "id": "13515a84",
        "outputId": "beef0ee3-e53c-424d-b3c3-80a3a753b306"
      },
      "outputs": [
        {
          "name": "stdout",
          "output_type": "stream",
          "text": [
            "Applying Z-score with threshold 3.0 on 45 numeric features...\n",
            "Outlier removal summary:\n",
            "  - Original dataset: 100000 rows\n",
            "  - Outliers removed: 9710 rows (9.71%)\n",
            "  - Final dataset: 90290 rows\n",
            "\n",
            "Features with most outliers:\n",
            "               Feature  Outlier Count\n",
            "2          flgs_number           3493\n",
            "36   N_IN_Conn_P_DstIP           3488\n",
            "13               ltime           2457\n",
            "0                stime           2457\n",
            "8                dport           1733\n",
            "22               dpkts           1322\n",
            "35  AR_P_Proto_P_DstIP            749\n",
            "34  AR_P_Proto_P_SrcIP            609\n",
            "37   N_IN_Conn_P_SrcIP            445\n",
            "3                proto            243\n"
          ]
        },
        {
          "data": {
            "image/png": "[encoded data removed]",
            "text/plain": [
              "<Figure size 1400x500 with 2 Axes>"
            ]
          },
          "metadata": {},
          "output_type": "display_data"
        },
        {
          "name": "stdout",
          "output_type": "stream",
          "text": [
            "\n",
            "Final attack distribution:\n",
            "attack\n",
            "1    90277\n",
            "0       13\n",
            "Name: count, dtype: int64\n"
          ]
        }
      ],
      "source": [
        "def remove_zscore_outliers(data, threshold=3.0):\n",
        "\n",
        "    import numpy as np\n",
        "    from scipy import stats\n",
        "\n",
        "    original_rows = data.shape[0]\n",
        "\n",
        "    # Separate normal and attack data\n",
        "    normal_data = data[data['attack'] == 0]\n",
        "    attack_data = data[data['attack'] == 1]\n",
        "\n",
        "    # Apply Z-score only on numeric features\n",
        "    numeric_cols = attack_data.select_dtypes(include=['number']).columns\n",
        "\n",
        "    # Create a mask for inliers\n",
        "    inlier_mask = pd.Series(True, index=attack_data.index)\n",
        "    outlier_count_by_feature = {}\n",
        "\n",
        "    print(f\"Applying Z-score with threshold {threshold} on {len(numeric_cols)} numeric features...\")\n",
        "\n",
        "    # Apply Z-score to each numeric column\n",
        "    for col in numeric_cols:\n",
        "        if col not in ['attack', 'category', 'subcategory']:  # Skip target variables\n",
        "            # Calculate Z-scores\n",
        "            z_scores = np.abs(stats.zscore(attack_data[col], nan_policy='omit'))\n",
        "\n",
        "            # Count outliers in this feature\n",
        "            feature_outliers = (z_scores > threshold).sum()\n",
        "            outlier_count_by_feature[col] = feature_outliers\n",
        "\n",
        "            # Update mask - keep only rows where Z-score is below threshold\n",
        "            col_mask = z_scores <= threshold\n",
        "            inlier_mask = inlier_mask & col_mask\n",
        "\n",
        "    # Extract attack data without outliers\n",
        "    cleaned_attack_data = attack_data[inlier_mask]\n",
        "\n",
        "    # Combine with normal data\n",
        "    cleaned_data = pd.concat([normal_data, cleaned_attack_data])\n",
        "\n",
        "    # Generate summary\n",
        "    removed_rows = original_rows - cleaned_data.shape[0]\n",
        "    percent_removed = (removed_rows / original_rows) * 100\n",
        "\n",
        "    print(f\"Outlier removal summary:\")\n",
        "    print(f\"  - Original dataset: {original_rows} rows\")\n",
        "    print(f\"  - Outliers removed: {removed_rows} rows ({percent_removed:.2f}%)\")\n",
        "    print(f\"  - Final dataset: {cleaned_data.shape[0]} rows\")\n",
        "\n",
        "    # Display features with most outliers\n",
        "    print(\"\\nFeatures with most outliers:\")\n",
        "    outlier_df = pd.DataFrame({\n",
        "        'Feature': outlier_count_by_feature.keys(),\n",
        "        'Outlier Count': outlier_count_by_feature.values()\n",
        "    }).sort_values('Outlier Count', ascending=False).head(10)\n",
        "    print(outlier_df)\n",
        "\n",
        "    # Visualize before/after class balance\n",
        "    fig, ax = plt.subplots(1, 2, figsize=(14, 5))\n",
        "    data['attack'].value_counts().plot.pie(autopct='%1.1f%%', ax=ax[0], title='Before Outlier Removal')\n",
        "    cleaned_data['attack'].value_counts().plot.pie(autopct='%1.1f%%', ax=ax[1], title='After Outlier Removal')\n",
        "    plt.tight_layout()\n",
        "    plt.show()\n",
        "\n",
        "    return cleaned_data\n",
        "\n",
        "# Apply Z-score outlier removal\n",
        "data = remove_zscore_outliers(label, threshold=3.0)\n",
        "\n",
        "# Check attack distribution after outlier removal\n",
        "print(\"\\nFinal attack distribution:\")\n",
        "print(data['attack'].value_counts())"
      ]
    },
    {
      "cell_type": "code",
      "execution_count": null,
      "id": "57376e71",
      "metadata": {
        "id": "57376e71",
        "outputId": "0f325baa-323a-42f9-fb22-bd1cf21dd4d0"
      },
      "outputs": [
        {
          "data": {
            "text/plain": [
              "attack\n",
              "1    90277\n",
              "0       13\n",
              "Name: count, dtype: int64"
            ]
          },
          "execution_count": 46,
          "metadata": {},
          "output_type": "execute_result"
        }
      ],
      "source": [
        "data['attack'].value_counts()"
      ]
    },
    {
      "cell_type": "markdown",
      "id": "1e2cffe1",
      "metadata": {
        "id": "1e2cffe1"
      },
      "source": [
        "# Scaling"
      ]
    },
    {
      "cell_type": "code",
      "execution_count": null,
      "id": "6093e160",
      "metadata": {
        "id": "6093e160"
      },
      "outputs": [],
      "source": [
        "from sklearn.preprocessing import MinMaxScaler\n",
        "normalizer = MinMaxScaler()\n",
        "data_scaled = pd.DataFrame(\n",
        "    normalizer.fit_transform(data),\n",
        "    columns=data.columns,\n",
        "    index=data.index\n",
        ")\n",
        "data = data_scaled"
      ]
    },
    {
      "cell_type": "markdown",
      "id": "6ea97733",
      "metadata": {
        "id": "6ea97733"
      },
      "source": [
        "# Data Balancing"
      ]
    },
    {
      "cell_type": "code",
      "execution_count": null,
      "id": "1499a20e",
      "metadata": {
        "id": "1499a20e"
      },
      "outputs": [],
      "source": [
        "leakage_features = ['attack', 'category', 'subcategory']\n",
        "x = data.drop(columns=leakage_features)\n",
        "y = data['attack']\n",
        "\n",
        "y=data['attack']"
      ]
    },
    {
      "cell_type": "code",
      "execution_count": null,
      "id": "bb62f2eb",
      "metadata": {
        "id": "bb62f2eb",
        "outputId": "db644bd8-789e-42b7-ddbf-d35a1ee023a5"
      },
      "outputs": [
        {
          "name": "stdout",
          "output_type": "stream",
          "text": [
            "Class distribution before SMOTE:\n",
            "attack\n",
            "1.0    90277\n",
            "0.0       13\n",
            "Name: count, dtype: int64\n",
            "\n",
            "Class distribution after SMOTE:\n",
            "attack\n",
            "1.0    72223\n",
            "0.0    72223\n",
            "Name: count, dtype: int64\n"
          ]
        }
      ],
      "source": [
        "from imblearn.over_sampling import SMOTE\n",
        "#from sklearn.ensemble import RandomForestClassifier\n",
        "#from sklearn.metrics import classification_report, confusion_matrix, accuracy_score\n",
        "from sklearn.model_selection import train_test_split\n",
        "\n",
        "print(\"Class distribution before SMOTE:\")\n",
        "print(y.value_counts())\n",
        "\n",
        "X_train, X_test, y_train, y_test = train_test_split(x, y, test_size=0.2, random_state=1)\n",
        "\n",
        "smote = SMOTE(random_state=1)\n",
        "X_train, y_train = smote.fit_resample(X_train, y_train)\n",
        "\n",
        "print(\"\\nClass distribution after SMOTE:\")\n",
        "print(pd.Series(y_train).value_counts())"
      ]
    },
    {
      "cell_type": "markdown",
      "id": "1a0b37df",
      "metadata": {
        "id": "1a0b37df"
      },
      "source": [
        "# Feature Selection Methods"
      ]
    },
    {
      "cell_type": "markdown",
      "id": "c5a1981d",
      "metadata": {
        "id": "c5a1981d"
      },
      "source": [
        "## Filter"
      ]
    },
    {
      "cell_type": "code",
      "execution_count": null,
      "id": "4471e1da",
      "metadata": {
        "id": "4471e1da",
        "outputId": "1c57042a-0628-44d6-dd83-de2b56d8e1a0"
      },
      "outputs": [
        {
          "name": "stdout",
          "output_type": "stream",
          "text": [
            "                             Feature   F Score\n",
            "8                              dport  0.707476\n",
            "36                 N_IN_Conn_P_DstIP  0.706844\n",
            "7                              daddr  0.694919\n",
            "23                            sbytes  0.694078\n",
            "31                        TnP_PDstIP  0.693372\n",
            "29                         TnBPDstIP  0.693334\n",
            "0                              stime  0.693151\n",
            "13                             ltime  0.693151\n",
            "40  Pkts_P_State_P_Protocol_P_DestIP  0.692149\n",
            "10                             bytes  0.689690\n"
          ]
        }
      ],
      "source": [
        "from sklearn.feature_selection import mutual_info_classif, SelectKBest\n",
        "def mutualinfotest(data):\n",
        "\n",
        "\tselector = SelectKBest(mutual_info_classif, k=10)\n",
        "\tX_selected = selector.fit_transform(X_train, y_train)\n",
        "\n",
        "\tf_scores = selector.scores_\n",
        "\n",
        "\tfeature_scores = pd.DataFrame({\n",
        "\t    'Feature': X_train.columns,\n",
        "\t    'F Score': f_scores,\n",
        "\t})\n",
        "\n",
        "\tfeature_scores = feature_scores.sort_values('F Score', ascending=False)\n",
        "\tprint(feature_scores.head(10))\n",
        "\n",
        "mutualinfotest(data)"
      ]
    },
    {
      "cell_type": "markdown",
      "id": "e511a32c",
      "metadata": {
        "id": "e511a32c"
      },
      "source": [
        "## Wrapper"
      ]
    },
    {
      "cell_type": "code",
      "execution_count": null,
      "id": "bf03b735",
      "metadata": {
        "id": "bf03b735",
        "outputId": "72b2c95e-1093-4ed3-e6d2-05f0477feefb"
      },
      "outputs": [
        {
          "name": "stdout",
          "output_type": "stream",
          "text": [
            "Starting fast RFE wrapper to select 10 features\n",
            "Fitting estimator with 42 features.\n",
            "Fitting estimator with 40 features.\n",
            "Fitting estimator with 38 features.\n",
            "Fitting estimator with 36 features.\n",
            "Fitting estimator with 34 features.\n",
            "Fitting estimator with 32 features.\n",
            "Fitting estimator with 30 features.\n",
            "Fitting estimator with 28 features.\n",
            "Fitting estimator with 26 features.\n",
            "Fitting estimator with 24 features.\n",
            "Fitting estimator with 22 features.\n",
            "Fitting estimator with 20 features.\n",
            "Fitting estimator with 18 features.\n",
            "Fitting estimator with 16 features.\n",
            "Fitting estimator with 14 features.\n",
            "Fitting estimator with 12 features.\n",
            "Feature selection completed in 7.95 seconds\n",
            "Selected 10 features\n",
            "Model accuracy with selected features: 1.0000\n",
            "\n",
            "Selected features ranked by importance:\n",
            "              Feature  Importance\n",
            "9   N_IN_Conn_P_DstIP        0.22\n",
            "1               dport        0.18\n",
            "6          TnP_PDstIP        0.18\n",
            "2               ltime        0.16\n",
            "0               stime        0.12\n",
            "3              sbytes        0.08\n",
            "5           TnBPDstIP        0.06\n",
            "4               srate        0.00\n",
            "7       TnP_Per_Dport        0.00\n",
            "8  AR_P_Proto_P_SrcIP        0.00\n"
          ]
        }
      ],
      "source": [
        "from sklearn.ensemble import RandomForestClassifier\n",
        "from sklearn.feature_selection import RFE\n",
        "from sklearn.metrics import accuracy_score\n",
        "import time\n",
        "import matplotlib.pyplot as plt\n",
        "\n",
        "def fast_rfe_wrapper(X, y, n_features=10):\n",
        "    start_time = time.time()\n",
        "\n",
        "    print(f\"Starting fast RFE wrapper to select {n_features} features\")\n",
        "\n",
        "    clf = RandomForestClassifier(\n",
        "        n_estimators=50,\n",
        "        max_depth=10,\n",
        "        min_samples_split=10,\n",
        "        random_state=42,\n",
        "        n_jobs=-1\n",
        "    )\n",
        "\n",
        "    step_size = max(1, int(X.shape[1] / 20))\n",
        "\n",
        "    rfe = RFE(\n",
        "        estimator=clf,\n",
        "        n_features_to_select=n_features,\n",
        "        step=step_size,\n",
        "        verbose=1\n",
        "    )\n",
        "\n",
        "    rfe.fit(X_train, y_train)\n",
        "\n",
        "    selected_indices = rfe.support_\n",
        "    selected_features = X.columns[selected_indices].tolist()\n",
        "\n",
        "    X_train_selected = X_train.iloc[:, selected_indices]\n",
        "    X_test_selected = X_test.iloc[:, selected_indices]\n",
        "\n",
        "    clf.fit(X_train_selected, y_train)\n",
        "    y_pred = clf.predict(X_test_selected)\n",
        "    accuracy = accuracy_score(y_test, y_pred)\n",
        "\n",
        "    execution_time = time.time() - start_time\n",
        "\n",
        "    print(f\"Feature selection completed in {execution_time:.2f} seconds\")\n",
        "    print(f\"Selected {len(selected_features)} features\")\n",
        "    print(f\"Model accuracy with selected features: {accuracy:.4f}\")\n",
        "\n",
        "    clf.fit(X_train.iloc[:, selected_indices], y_train)\n",
        "    importance = pd.DataFrame({\n",
        "        'Feature': selected_features,\n",
        "        'Importance': clf.feature_importances_\n",
        "    }).sort_values('Importance', ascending=False)\n",
        "\n",
        "    print(\"\\nSelected features ranked by importance:\")\n",
        "    print(importance)\n",
        "\n",
        "    return X[selected_features]\n",
        "X_wrapper_fast = fast_rfe_wrapper(x, y, n_features=10)"
      ]
    },
    {
      "cell_type": "markdown",
      "id": "217a6c1a",
      "metadata": {
        "id": "217a6c1a"
      },
      "source": [
        "## Embedded"
      ]
    },
    {
      "cell_type": "code",
      "execution_count": null,
      "id": "3ae977b7",
      "metadata": {
        "id": "3ae977b7",
        "outputId": "b839a49b-9c64-4f89-81c8-f47677742ef3"
      },
      "outputs": [
        {
          "name": "stdout",
          "output_type": "stream",
          "text": [
            "Selected 10 features: ['stime', 'daddr', 'dport', 'state', 'ltime', 'sbytes', 'TnBPDstIP', 'TnP_PDstIP', 'TnP_PerProto', 'N_IN_Conn_P_DstIP']\n"
          ]
        }
      ],
      "source": [
        "from sklearn.ensemble import RandomForestClassifier\n",
        "from sklearn.feature_selection import SelectFromModel\n",
        "\n",
        "# Convert to NumPy arrays\n",
        "x_array = x.values\n",
        "y_array = y.values\n",
        "\n",
        "# Create Random Forest model\n",
        "rf = RandomForestClassifier(n_estimators=100)\n",
        "rf.fit(x_array, y_array)\n",
        "\n",
        "# Select features based on importance\n",
        "selector = SelectFromModel(rf, threshold=\"mean\")\n",
        "X_selected = selector.transform(x_array)\n",
        "\n",
        "# Get selected feature indices\n",
        "selected_indices = selector.get_support()\n",
        "selected_features = x.columns[selected_indices]\n",
        "print(f\"Selected {len(selected_features)} features: {selected_features.tolist()}\")"
      ]
    },
    {
      "cell_type": "markdown",
      "id": "afae4618",
      "metadata": {
        "id": "afae4618"
      },
      "source": [
        "## Hybrid"
      ]
    },
    {
      "cell_type": "code",
      "execution_count": null,
      "id": "d600221a",
      "metadata": {
        "id": "d600221a",
        "outputId": "079e2bde-4ad5-45bb-f87d-f87725e0440b"
      },
      "outputs": [
        {
          "name": "stdout",
          "output_type": "stream",
          "text": [
            "Starting hybrid feature selection (Filter + Wrapper)\n",
            "Filter stage will select top 20 features\n",
            "Wrapper stage will select final 10 features\n",
            "\n",
            "Stage 1: Applying mutual information filter...\n",
            "Filter stage selected 20 features\n",
            "\n",
            "Stage 2: Applying RFE wrapper method...\n",
            "Final selection: 10 features\n",
            "Model accuracy with selected features: 1.0000\n",
            "\n",
            "Selected features: ['stime', 'dport', 'ltime', 'spkts', 'sbytes', 'TnBPDstIP', 'TnP_PDstIP', 'AR_P_Proto_P_SrcIP', 'N_IN_Conn_P_DstIP', 'Pkts_P_State_P_Protocol_P_DestIP']\n"
          ]
        }
      ],
      "source": [
        "from sklearn.feature_selection import mutual_info_classif, SelectKBest, RFE\n",
        "from sklearn.ensemble import RandomForestClassifier\n",
        "from sklearn.metrics import accuracy_score\n",
        "\n",
        "def hybrid_feature_selection(X, y, filter_k=20, final_k=10):\n",
        "\n",
        "    print(f\"Starting hybrid feature selection (Filter + Wrapper)\")\n",
        "    print(f\"Filter stage will select top {filter_k} features\")\n",
        "    print(f\"Wrapper stage will select final {final_k} features\")\n",
        "\n",
        "    print(\"\\nStage 1: Applying mutual information filter...\")\n",
        "    filter_selector = SelectKBest(mutual_info_classif, k=filter_k)\n",
        "    X_filter = filter_selector.fit_transform(X_train, y_train)\n",
        "\n",
        "    filter_mask = filter_selector.get_support()\n",
        "    filter_features = X.columns[filter_mask].tolist()\n",
        "\n",
        "    X_train_filtered = pd.DataFrame(X_filter, columns=filter_features)\n",
        "    X_test_filtered = pd.DataFrame(\n",
        "        filter_selector.transform(X_test),\n",
        "        columns=filter_features\n",
        "    )\n",
        "\n",
        "    print(f\"Filter stage selected {len(filter_features)} features\")\n",
        "\n",
        "    print(\"\\nStage 2: Applying RFE wrapper method...\")\n",
        "    rf = RandomForestClassifier(n_estimators=100, random_state=42)\n",
        "    rfe = RFE(estimator=rf, n_features_to_select=final_k, step=1)\n",
        "\n",
        "    rfe.fit(X_train_filtered, y_train)\n",
        "\n",
        "    final_mask = rfe.support_\n",
        "    final_features = np.array(filter_features)[final_mask].tolist()\n",
        "\n",
        "    X_train_final = rfe.transform(X_train_filtered)\n",
        "    X_test_final = rfe.transform(X_test_filtered)\n",
        "\n",
        "    rf.fit(X_train_final, y_train)\n",
        "    y_pred = rf.predict(X_test_final)\n",
        "    accuracy = accuracy_score(y_test, y_pred)\n",
        "\n",
        "    print(f\"Final selection: {len(final_features)} features\")\n",
        "    print(f\"Model accuracy with selected features: {accuracy:.4f}\")\n",
        "    print(f\"\\nSelected features: {final_features}\")\n",
        "\n",
        "    importances = pd.Series(rfe.estimator_.feature_importances_, index=np.array(filter_features)[final_mask])\n",
        "\n",
        "hybrid_feature_selection(X_train,y_train)"
      ]
    },
    {
      "cell_type": "markdown",
      "id": "5e44b8a5",
      "metadata": {
        "id": "5e44b8a5"
      },
      "source": [
        "# Classifiers"
      ]
    },
    {
      "cell_type": "markdown",
      "id": "ac32aa71",
      "metadata": {
        "id": "ac32aa71"
      },
      "source": [
        "## Bagging\n"
      ]
    },
    {
      "cell_type": "code",
      "execution_count": null,
      "id": "c99c7071",
      "metadata": {
        "id": "c99c7071",
        "outputId": "11fc9ccb-856d-4c7c-ffd0-aecb0656fa97"
      },
      "outputs": [
        {
          "name": "stdout",
          "output_type": "stream",
          "text": [
            "Random Forest Classification Results:\n",
            "Accuracy: 1.0000\n",
            "\n",
            "Classification Report:\n",
            "              precision    recall  f1-score   support\n",
            "\n",
            "         0.0       1.00      1.00      1.00         4\n",
            "         1.0       1.00      1.00      1.00     18054\n",
            "\n",
            "    accuracy                           1.00     18058\n",
            "   macro avg       1.00      1.00      1.00     18058\n",
            "weighted avg       1.00      1.00      1.00     18058\n",
            "\n",
            "\n",
            "Top 10 Important Features:\n",
            "                             Feature  Importance\n",
            "29                         TnBPDstIP    0.138491\n",
            "31                        TnP_PDstIP    0.135026\n",
            "8                              dport    0.131104\n",
            "36                 N_IN_Conn_P_DstIP    0.110942\n",
            "23                            sbytes    0.071836\n",
            "13                             ltime    0.071544\n",
            "26                             srate    0.066474\n",
            "0                              stime    0.060732\n",
            "40  Pkts_P_State_P_Protocol_P_DestIP    0.040415\n",
            "21                             spkts    0.037971\n"
          ]
        }
      ],
      "source": [
        "from sklearn.ensemble import RandomForestClassifier\n",
        "from sklearn.metrics import classification_report, confusion_matrix, accuracy_score\n",
        "\n",
        "\n",
        "rf_model = RandomForestClassifier(n_estimators=100, random_state=42)\n",
        "\n",
        "rf_model.fit(X_train, y_train)\n",
        "\n",
        "y_pred = rf_model.predict(X_test)\n",
        "\n",
        "accuracy = accuracy_score(y_test, y_pred)\n",
        "conf_matrix = confusion_matrix(y_test, y_pred)\n",
        "\n",
        "print(f\"Random Forest Classification Results:\")\n",
        "print(f\"Accuracy: {accuracy:.4f}\")\n",
        "print(\"\\nClassification Report:\")\n",
        "print(classification_report(y_test, y_pred))\n",
        "\n",
        "feature_importance = pd.DataFrame({\n",
        "    'Feature': X_train.columns,\n",
        "    'Importance': rf_model.feature_importances_\n",
        "}).sort_values('Importance', ascending=False)\n",
        "print(\"\\nTop 10 Important Features:\")\n",
        "print(feature_importance.head(10))"
      ]
    },
    {
      "cell_type": "markdown",
      "id": "622b292b",
      "metadata": {
        "id": "622b292b"
      },
      "source": [
        "## Boosting"
      ]
    },
    {
      "cell_type": "code",
      "execution_count": null,
      "id": "9fe8ddd8",
      "metadata": {
        "id": "9fe8ddd8",
        "outputId": "1efcc525-de71-4744-d498-58163eef0df2"
      },
      "outputs": [
        {
          "name": "stdout",
          "output_type": "stream",
          "text": [
            "XGBoost Classification Results:\n",
            "Accuracy: 0.9999\n",
            "\n",
            "Classification Report:\n",
            "              precision    recall  f1-score   support\n",
            "\n",
            "         0.0       1.00      0.75      0.86         4\n",
            "         1.0       1.00      1.00      1.00     18054\n",
            "\n",
            "    accuracy                           1.00     18058\n",
            "   macro avg       1.00      0.88      0.93     18058\n",
            "weighted avg       1.00      1.00      1.00     18058\n",
            "\n",
            "\n",
            "Feature Importance:\n",
            "              Feature  Importance\n",
            "31         TnP_PDstIP    0.453945\n",
            "23             sbytes    0.421800\n",
            "36  N_IN_Conn_P_DstIP    0.120814\n",
            "8               dport    0.003441\n",
            "1                flgs    0.000000\n",
            "3               proto    0.000000\n",
            "5               saddr    0.000000\n",
            "2         flgs_number    0.000000\n",
            "4        proto_number    0.000000\n",
            "0               stime    0.000000\n"
          ]
        }
      ],
      "source": [
        "from xgboost import XGBClassifier\n",
        "from sklearn.metrics import accuracy_score, classification_report, confusion_matrix\n",
        "\n",
        "xgb_model = XGBClassifier(\n",
        "    n_estimators=100,\n",
        "    learning_rate=0.1,\n",
        "    max_depth=5,\n",
        "    min_child_weight=1,\n",
        "    subsample=0.8,\n",
        "    colsample_bytree=0.8,\n",
        "    objective='binary:logistic',\n",
        "    scale_pos_weight=1,\n",
        "    random_state=42\n",
        ")\n",
        "\n",
        "xgb_model.fit(X_train, y_train)\n",
        "\n",
        "y_pred = xgb_model.predict(X_test)\n",
        "\n",
        "accuracy = accuracy_score(y_test, y_pred)\n",
        "conf_matrix = confusion_matrix(y_test, y_pred)\n",
        "\n",
        "print(f\"XGBoost Classification Results:\")\n",
        "print(f\"Accuracy: {accuracy:.4f}\")\n",
        "print(\"\\nClassification Report:\")\n",
        "print(classification_report(y_test, y_pred))\n",
        "\n",
        "feature_importance = pd.DataFrame({\n",
        "    'Feature': X_train.columns,\n",
        "    'Importance': xgb_model.feature_importances_\n",
        "}).sort_values('Importance', ascending=False)\n",
        "\n",
        "print(\"\\nFeature Importance:\")\n",
        "print(feature_importance.head(10))"
      ]
    },
    {
      "cell_type": "markdown",
      "id": "eaa51a1e",
      "metadata": {
        "id": "eaa51a1e"
      },
      "source": [
        "## Hybrid"
      ]
    },
    {
      "cell_type": "code",
      "execution_count": null,
      "id": "5803e004",
      "metadata": {
        "id": "5803e004",
        "outputId": "4f3fb4fa-d2a5-49a5-bfca-e3c0d8bf741b"
      },
      "outputs": [
        {
          "name": "stdout",
          "output_type": "stream",
          "text": [
            "Base model rf trained\n",
            "Base model gb trained\n",
            "Base model xgb trained\n",
            "Meta model trained\n",
            "\n",
            "Stacked Model Classification Results:\n",
            "Accuracy: 1.0000\n",
            "\n",
            "Classification Report:\n",
            "              precision    recall  f1-score   support\n",
            "\n",
            "         0.0       1.00      1.00      1.00         4\n",
            "         1.0       1.00      1.00      1.00     18054\n",
            "\n",
            "    accuracy                           1.00     18058\n",
            "   macro avg       1.00      1.00      1.00     18058\n",
            "weighted avg       1.00      1.00      1.00     18058\n",
            "\n"
          ]
        }
      ],
      "source": [
        "from sklearn.ensemble import RandomForestClassifier, GradientBoostingClassifier\n",
        "from xgboost import XGBClassifier\n",
        "from sklearn.linear_model import LogisticRegression\n",
        "from sklearn.metrics import accuracy_score, classification_report, confusion_matrix\n",
        "\n",
        "\n",
        "base_models = [\n",
        "    ('rf', RandomForestClassifier(n_estimators=100, random_state=42)),\n",
        "    ('gb', GradientBoostingClassifier(n_estimators=100, random_state=42)),\n",
        "    ('xgb', XGBClassifier(n_estimators=100, random_state=42))\n",
        "]\n",
        "\n",
        "base_predictions = {}\n",
        "for name, model in base_models:\n",
        "    model.fit(X_train, y_train)\n",
        "    base_predictions[name] = model.predict_proba(X_train)[:, 1]\n",
        "    print(f\"Base model {name} trained\")\n",
        "\n",
        "meta_X = np.column_stack([base_predictions[name] for name, _ in base_models])\n",
        "\n",
        "meta_model = LogisticRegression(C=1.0, random_state=42)\n",
        "meta_model.fit(meta_X, y_train)\n",
        "print(\"Meta model trained\")\n",
        "\n",
        "test_predictions = {}\n",
        "for name, model in base_models:\n",
        "    test_predictions[name] = model.predict(X_test)\n",
        "\n",
        "meta_X_test = np.column_stack([test_predictions[name] for name, _ in base_models])\n",
        "\n",
        "final_predictions = meta_model.predict(meta_X_test)\n",
        "\n",
        "accuracy = accuracy_score(y_test, final_predictions)\n",
        "conf_matrix = confusion_matrix(y_test, final_predictions)\n",
        "\n",
        "print(f\"\\nStacked Model Classification Results:\")\n",
        "print(f\"Accuracy: {accuracy:.4f}\")\n",
        "print(\"\\nClassification Report:\")\n",
        "print(classification_report(y_test, final_predictions))\n",
        "\n",
        "models = ['Random Forest', 'XGBoost', 'Stacked Model']\n",
        "accuracies = [\n",
        "    accuracy_score(y_test, rf_model.predict(X_test)),\n",
        "    accuracy_score(y_test, xgb_model.predict(X_test)),\n",
        "    accuracy\n",
        "]"
      ]
    },
    {
      "cell_type": "code",
      "execution_count": null,
      "id": "df7442a9",
      "metadata": {
        "id": "df7442a9"
      },
      "outputs": [],
      "source": [
        "rf_model = RandomForestClassifier(\n",
        "    n_estimators=100,\n",
        "    max_depth=8,\n",
        "    min_samples_leaf=5,\n",
        "    random_state=42\n",
        ")"
      ]
    },
    {
      "cell_type": "code",
      "execution_count": null,
      "id": "8801d075",
      "metadata": {
        "id": "8801d075",
        "outputId": "1fd1fa10-765d-49a7-95d2-69596b980c43"
      },
      "outputs": [
        {
          "data": {
            "text/plain": [
              "'Cross-validation scores: [1. 1. 1. 1. 1.]'"
            ]
          },
          "metadata": {},
          "output_type": "display_data"
        },
        {
          "data": {
            "text/plain": [
              "'Mean accuracy: 1.0000'"
            ]
          },
          "metadata": {},
          "output_type": "display_data"
        }
      ],
      "source": [
        "from sklearn.model_selection import cross_val_score\n",
        "\n",
        "scores = cross_val_score(rf_model, x, y, cv=5)\n",
        "display(f\"Cross-validation scores: {scores}\")\n",
        "display(f\"Mean accuracy: {scores.mean():.4f}\")"
      ]
    }
  ],
  "metadata": {
    "kernelspec": {
      "display_name": "Python 3",
      "language": "python",
      "name": "python3"
    },
    "language_info": {
      "codemirror_mode": {
        "name": "ipython",
        "version": 3
      },
      "file_extension": ".py",
      "mimetype": "text/x-python",
      "name": "python",
      "nbconvert_exporter": "python",
      "pygments_lexer": "ipython3",
      "version": "3.11.9"
    },
    "colab": {
      "provenance": [],
      "include_colab_link": true
    }
  },
  "nbformat": 4,
  "nbformat_minor": 5
}